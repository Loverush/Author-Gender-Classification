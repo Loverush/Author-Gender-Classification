{
 "cells": [
  {
   "cell_type": "code",
   "execution_count": 1,
   "metadata": {
    "ExecuteTime": {
     "end_time": "2019-08-03T07:36:40.892071Z",
     "start_time": "2019-08-03T07:36:40.314940Z"
    }
   },
   "outputs": [],
   "source": [
    "import json\n",
    "import logging\n",
    "import os\n",
    "import pandas as pd\n",
    "from tqdm import tqdm\n",
    "from nltk import ngrams\n",
    "import multiprocessing as mp\n",
    "from math import log"
   ]
  },
  {
   "cell_type": "code",
   "execution_count": 2,
   "metadata": {
    "ExecuteTime": {
     "end_time": "2019-08-03T07:36:43.896652Z",
     "start_time": "2019-08-03T07:36:43.875350Z"
    },
    "code_folding": [
     0
    ]
   },
   "outputs": [],
   "source": [
    "#func\n",
    "def load_doc(filename):\n",
    "    file = open(filename, 'r', encoding='utf-8')\n",
    "    text = file.read()\n",
    "    file.close()\n",
    "    return text\n",
    "\n",
    "\n",
    "def getUpper(word):\n",
    "    word = word[0].upper() + word[1:]\n",
    "    return word\n",
    "\n",
    "\n",
    "# gender pair list taken from GN-Glove\n",
    "DEFAULT_MALE_NOUNS = load_doc('male_word_file.txt').split('\\n')\n",
    "DEFAULT_FEMALE_NOUNS = load_doc('female_word_file.txt').split('\\n')\n",
    "\n",
    "\n",
    "def gender_ratios_m_f(data, maleCount, femaleCount):\n",
    "    scoresP = []\n",
    "    scoresPC = []\n",
    "    bias_record = {}\n",
    "    for words in data:\n",
    "        if (data[words]['m'] + data[words]['f'] > MinCount):\n",
    "            if words in occupations:\n",
    "                score = abs(\n",
    "                    log((data[words]['m'] + 1) / (data[words]['f'] + 1)))\n",
    "                scoresP.append(score)\n",
    "\n",
    "                pm = data[words]['m'] / (maleCount + 0.00001)\n",
    "                pf = data[words]['f'] / (femaleCount + 0.00001)\n",
    "                score_c = abs(log((pm + 0.00001) / (pf + 0.00001)))\n",
    "                scoresPC.append(score_c)\n",
    "\n",
    "                bias_record[words] = log(\n",
    "                    (data[words]['m'] + 1) / (data[words]['f'] + 1))\n",
    "    return scoresP, scoresPC, bias_record\n",
    "\n",
    "\n",
    "# Taken from jtcrammer repo\n",
    "def get_cooccurrences(file, data, window):\n",
    "    with open(file, 'r', encoding='utf-8') as fp:\n",
    "        sentences = fp.read()\n",
    "    male_nouns = DEFAULT_MALE_NOUNS\n",
    "    female_nouns = DEFAULT_FEMALE_NOUNS\n",
    "    n_grams = ngrams(sentences.split(), window)\n",
    "\n",
    "    for grams in n_grams:\n",
    "        pos = 1\n",
    "        m = 0\n",
    "        f = 0\n",
    "        for w in grams:\n",
    "            pos += 1\n",
    "            if w not in data:\n",
    "                data[w] = {\"m\": 0, \"f\": 0}\n",
    "\n",
    "            if pos == int((window + 1) / 2):\n",
    "                if w in male_nouns:\n",
    "                    m = 1\n",
    "                if w in female_nouns:\n",
    "                    f = 1\n",
    "                if m > 0:\n",
    "                    for t in grams:\n",
    "                        if t not in data:\n",
    "                            data[t] = {\"m\": 0, \"f\": 0}\n",
    "                        data[t]['m'] += 1\n",
    "                if f > 0:\n",
    "                    for t in grams:\n",
    "                        if t not in data:\n",
    "                            data[t] = {\"m\": 0, \"f\": 0}\n",
    "                        data[t]['f'] += 1\n",
    "    return data\n",
    "\n",
    "\n",
    "def getGenderCounts(file):\n",
    "    with open(file, 'r', encoding='utf-8') as fp:\n",
    "        sentences = fp.read()\n",
    "    tokens = sentences.split()\n",
    "    maleCount = len([w for w in tokens if w in DEFAULT_MALE_NOUNS])\n",
    "    femaleCount = len([w for w in tokens if w in DEFAULT_FEMALE_NOUNS])\n",
    "    return maleCount, femaleCount"
   ]
  },
  {
   "cell_type": "code",
   "execution_count": 3,
   "metadata": {
    "ExecuteTime": {
     "end_time": "2019-08-03T12:04:04.379867Z",
     "start_time": "2019-08-03T11:17:54.764772Z"
    },
    "code_folding": [],
    "scrolled": true
   },
   "outputs": [
    {
     "name": "stderr",
     "output_type": "stream",
     "text": [
      "  0%|          | 1/2251 [00:00<05:13,  7.17it/s]"
     ]
    },
    {
     "name": "stdout",
     "output_type": "stream",
     "text": [
      "\n",
      "Present length:12000\n",
      "Processing gender: ./5000-12000/female/\n",
      "Files: 2251\n"
     ]
    },
    {
     "name": "stderr",
     "output_type": "stream",
     "text": [
      "100%|██████████| 2251/2251 [05:15<00:00,  6.93it/s]\n",
      "  0%|          | 1/2140 [00:00<05:26,  6.55it/s]"
     ]
    },
    {
     "name": "stdout",
     "output_type": "stream",
     "text": [
      "Processing gender: ./5000-12000/male/\n",
      "Files: 2140\n"
     ]
    },
    {
     "name": "stderr",
     "output_type": "stream",
     "text": [
      "100%|██████████| 2140/2140 [04:44<00:00,  7.63it/s]\n",
      "  0%|          | 1/2213 [00:00<05:50,  6.30it/s]"
     ]
    },
    {
     "name": "stdout",
     "output_type": "stream",
     "text": [
      "\n",
      "Present length:14000\n",
      "Processing gender: ./5000-14000/female/\n",
      "Files: 2213\n"
     ]
    },
    {
     "name": "stderr",
     "output_type": "stream",
     "text": [
      "100%|██████████| 2213/2213 [05:30<00:00,  6.77it/s]\n",
      "  0%|          | 1/2083 [00:00<05:11,  6.69it/s]"
     ]
    },
    {
     "name": "stdout",
     "output_type": "stream",
     "text": [
      "Processing gender: ./5000-14000/male/\n",
      "Files: 2083\n"
     ]
    },
    {
     "name": "stderr",
     "output_type": "stream",
     "text": [
      "100%|██████████| 2083/2083 [05:10<00:00,  6.65it/s]\n",
      "  0%|          | 1/2179 [00:00<06:02,  6.00it/s]"
     ]
    },
    {
     "name": "stdout",
     "output_type": "stream",
     "text": [
      "\n",
      "Present length:16000\n",
      "Processing gender: ./5000-16000/female/\n",
      "Files: 2179\n"
     ]
    },
    {
     "name": "stderr",
     "output_type": "stream",
     "text": [
      "100%|██████████| 2179/2179 [06:06<00:00,  5.92it/s]\n",
      "  0%|          | 1/2043 [00:00<05:53,  5.77it/s]"
     ]
    },
    {
     "name": "stdout",
     "output_type": "stream",
     "text": [
      "Processing gender: ./5000-16000/male/\n",
      "Files: 2043\n"
     ]
    },
    {
     "name": "stderr",
     "output_type": "stream",
     "text": [
      "100%|██████████| 2043/2043 [05:54<00:00,  5.44it/s]\n",
      "  0%|          | 0/2153 [00:00<?, ?it/s]"
     ]
    },
    {
     "name": "stdout",
     "output_type": "stream",
     "text": [
      "\n",
      "Present length:18000\n",
      "Processing gender: ./5000-18000/female/\n",
      "Files: 2153\n"
     ]
    },
    {
     "name": "stderr",
     "output_type": "stream",
     "text": [
      "100%|██████████| 2153/2153 [06:52<00:00,  4.89it/s]\n",
      "  0%|          | 0/2003 [00:00<?, ?it/s]"
     ]
    },
    {
     "name": "stdout",
     "output_type": "stream",
     "text": [
      "Processing gender: ./5000-18000/male/\n",
      "Files: 2003\n"
     ]
    },
    {
     "name": "stderr",
     "output_type": "stream",
     "text": [
      "100%|██████████| 2003/2003 [06:34<00:00,  5.11it/s]\n"
     ]
    }
   ],
   "source": [
    "#occu\n",
    "window = 10\n",
    "MinCount = 10\n",
    "txtlengths = [12000, 14000, 16000, 18000]\n",
    "\n",
    "occupations = load_doc('occupations.txt').split('\\n')\n",
    "occupations += [getUpper(w) for w in occupations if len(w) > 0]\n",
    "\n",
    "for txtlength in txtlengths:\n",
    "    biasPList = []\n",
    "    biasPCList = []\n",
    "    scorePList = []\n",
    "    scorePCList = []\n",
    "    scoreDictList = []\n",
    "    maleRatio = []\n",
    "    global_count_female = 0\n",
    "    df_per_txt = pd.DataFrame()\n",
    "    data_dir = f\"./5000-{txtlength}\"\n",
    "    print('\\nPresent length:{}'.format(txtlength))\n",
    "\n",
    "    for gender in [0, 1]:\n",
    "        if gender == 0:\n",
    "            txtDir = f'{data_dir}/female/'\n",
    "        else:\n",
    "            txtDir = f'{data_dir}/male/'\n",
    "\n",
    "        print(\"Processing gender: {}\".format(txtDir))\n",
    "        blogs_gender = os.listdir(txtDir)\n",
    "        print(\"Files:\", len(os.listdir(txtDir)))\n",
    "        for i in tqdm(range(0, len(blogs_gender))):\n",
    "            m = blogs_gender[i]\n",
    "            maleCount = 0\n",
    "            femaleCount = 0\n",
    "            data = {}\n",
    "            txt_path = txtDir + m\n",
    "            data = get_cooccurrences(txt_path, data, window)\n",
    "            mCount, fCount = getGenderCounts(txt_path)\n",
    "            maleCount = mCount\n",
    "            femaleCount = fCount\n",
    "            scores_p, scores_pc, scores_dict = gender_ratios_m_f(\n",
    "                data, maleCount, femaleCount)\n",
    "            global_count_female += 1\n",
    "\n",
    "            row_dict = dict()\n",
    "\n",
    "            row_dict['word ratio'] = (maleCount + 0.000001) / (\n",
    "                maleCount + femaleCount + 0.000001)\n",
    "            row_dict['male'] = maleCount + 0.000001\n",
    "            row_dict['female'] = femaleCount + 0.000001\n",
    "            row_dict['bias'] = sum(scores_p) / max(len(scores_p), 1)\n",
    "            row_dict['biasPC'] = sum(scores_pc) / max(len(scores_pc), 1)\n",
    "            row_dict['scores_dict'] = scores_dict\n",
    "            row_dict['gender'] = gender\n",
    "\n",
    "            df_per_txt = df_per_txt.append(row_dict, ignore_index=True)\n",
    "\n",
    "    df_per_txt.to_csv(f'5000-{txtlength}_genderbias-occu.csv', index=False)"
   ]
  },
  {
   "cell_type": "code",
   "execution_count": 4,
   "metadata": {
    "ExecuteTime": {
     "end_time": "2019-08-03T12:51:52.985224Z",
     "start_time": "2019-08-03T12:04:04.433209Z"
    },
    "code_folding": [
     0
    ],
    "scrolled": true
   },
   "outputs": [
    {
     "name": "stderr",
     "output_type": "stream",
     "text": [
      "  0%|          | 1/2251 [00:00<05:47,  6.48it/s]"
     ]
    },
    {
     "name": "stdout",
     "output_type": "stream",
     "text": [
      "\n",
      "Present length:12000\n",
      "Processing gender: ./5000-12000/female/\n",
      "Files: 2251\n"
     ]
    },
    {
     "name": "stderr",
     "output_type": "stream",
     "text": [
      "100%|██████████| 2251/2251 [05:06<00:00,  7.51it/s]\n",
      "  0%|          | 1/2140 [00:00<04:43,  7.56it/s]"
     ]
    },
    {
     "name": "stdout",
     "output_type": "stream",
     "text": [
      "Processing gender: ./5000-12000/male/\n",
      "Files: 2140\n"
     ]
    },
    {
     "name": "stderr",
     "output_type": "stream",
     "text": [
      "100%|██████████| 2140/2140 [04:51<00:00,  7.29it/s]\n",
      "  0%|          | 1/2213 [00:00<05:55,  6.22it/s]"
     ]
    },
    {
     "name": "stdout",
     "output_type": "stream",
     "text": [
      "\n",
      "Present length:14000\n",
      "Processing gender: ./5000-14000/female/\n",
      "Files: 2213\n"
     ]
    },
    {
     "name": "stderr",
     "output_type": "stream",
     "text": [
      "100%|██████████| 2213/2213 [05:49<00:00,  6.10it/s]\n",
      "  0%|          | 1/2083 [00:00<05:36,  6.18it/s]"
     ]
    },
    {
     "name": "stdout",
     "output_type": "stream",
     "text": [
      "Processing gender: ./5000-14000/male/\n",
      "Files: 2083\n"
     ]
    },
    {
     "name": "stderr",
     "output_type": "stream",
     "text": [
      "100%|██████████| 2083/2083 [05:29<00:00,  6.34it/s]\n",
      "  0%|          | 1/2179 [00:00<06:18,  5.76it/s]"
     ]
    },
    {
     "name": "stdout",
     "output_type": "stream",
     "text": [
      "\n",
      "Present length:16000\n",
      "Processing gender: ./5000-16000/female/\n",
      "Files: 2179\n"
     ]
    },
    {
     "name": "stderr",
     "output_type": "stream",
     "text": [
      "100%|██████████| 2179/2179 [06:32<00:00,  5.57it/s]\n",
      "  0%|          | 1/2043 [00:00<06:07,  5.56it/s]"
     ]
    },
    {
     "name": "stdout",
     "output_type": "stream",
     "text": [
      "Processing gender: ./5000-16000/male/\n",
      "Files: 2043\n"
     ]
    },
    {
     "name": "stderr",
     "output_type": "stream",
     "text": [
      "100%|██████████| 2043/2043 [06:07<00:00,  5.61it/s]\n",
      "  0%|          | 1/2153 [00:00<06:57,  5.16it/s]"
     ]
    },
    {
     "name": "stdout",
     "output_type": "stream",
     "text": [
      "\n",
      "Present length:18000\n",
      "Processing gender: ./5000-18000/female/\n",
      "Files: 2153\n"
     ]
    },
    {
     "name": "stderr",
     "output_type": "stream",
     "text": [
      "100%|██████████| 2153/2153 [07:10<00:00,  5.11it/s]\n",
      "  0%|          | 0/2003 [00:00<?, ?it/s]"
     ]
    },
    {
     "name": "stdout",
     "output_type": "stream",
     "text": [
      "Processing gender: ./5000-18000/male/\n",
      "Files: 2003\n"
     ]
    },
    {
     "name": "stderr",
     "output_type": "stream",
     "text": [
      "100%|██████████| 2003/2003 [06:40<00:00,  5.03it/s]\n"
     ]
    }
   ],
   "source": [
    "#emo\n",
    "window = 10\n",
    "MinCount = 10\n",
    "\n",
    "occupations = load_doc('emotions.txt').split('\\n')\n",
    "occupations += [getUpper(w) for w in occupations if len(w) > 0]\n",
    "\n",
    "for txtlength in txtlengths:\n",
    "    biasPList = []\n",
    "    biasPCList = []\n",
    "    scorePList = []\n",
    "    scorePCList = []\n",
    "    scoreDictList = []\n",
    "    maleRatio = []\n",
    "    global_count_female = 0\n",
    "    df_per_txt = pd.DataFrame()\n",
    "    data_dir = f\"./5000-{txtlength}\"\n",
    "    print('\\nPresent length:{}'.format(txtlength))\n",
    "\n",
    "    for gender in [0, 1]:\n",
    "        if gender == 0:\n",
    "            txtDir = f'{data_dir}/female/'\n",
    "        else:\n",
    "            txtDir = f'{data_dir}/male/'\n",
    "\n",
    "        print(\"Processing gender: {}\".format(txtDir))\n",
    "        blogs_gender = os.listdir(txtDir)\n",
    "        print(\"Files:\", len(os.listdir(txtDir)))\n",
    "        for i in tqdm(range(0, len(blogs_gender))):\n",
    "            m = blogs_gender[i]\n",
    "            maleCount = 0\n",
    "            femaleCount = 0\n",
    "            data = {}\n",
    "            txt_path = txtDir + m\n",
    "            data = get_cooccurrences(txt_path, data, window)\n",
    "            mCount, fCount = getGenderCounts(txt_path)\n",
    "            maleCount = mCount\n",
    "            femaleCount = fCount\n",
    "            scores_p, scores_pc, scores_dict = gender_ratios_m_f(\n",
    "                data, maleCount, femaleCount)\n",
    "            global_count_female += 1\n",
    "\n",
    "            row_dict = dict()\n",
    "\n",
    "            row_dict['word ratio'] = (maleCount + 0.000001) / (\n",
    "                maleCount + femaleCount + 0.000001)\n",
    "            row_dict['male'] = maleCount + 0.000001\n",
    "            row_dict['female'] = femaleCount + 0.000001\n",
    "            row_dict['bias'] = sum(scores_p) / max(len(scores_p), 1)\n",
    "            row_dict['biasPC'] = sum(scores_pc) / max(len(scores_pc), 1)\n",
    "            row_dict['scores_dict'] = scores_dict\n",
    "            row_dict['gender'] = gender\n",
    "\n",
    "            df_per_txt = df_per_txt.append(row_dict, ignore_index=True)\n",
    "\n",
    "    df_per_txt.to_csv(f'5000-{txtlength}_genderbias-emo.csv', index=False)"
   ]
  },
  {
   "cell_type": "code",
   "execution_count": 5,
   "metadata": {
    "ExecuteTime": {
     "end_time": "2019-08-03T13:39:46.221639Z",
     "start_time": "2019-08-03T12:51:53.032673Z"
    },
    "code_folding": [
     0
    ],
    "scrolled": true
   },
   "outputs": [
    {
     "name": "stderr",
     "output_type": "stream",
     "text": [
      "  0%|          | 1/2251 [00:00<04:57,  7.55it/s]"
     ]
    },
    {
     "name": "stdout",
     "output_type": "stream",
     "text": [
      "\n",
      "Present length:12000\n",
      "Processing gender: ./5000-12000/female/\n",
      "Files: 2251\n"
     ]
    },
    {
     "name": "stderr",
     "output_type": "stream",
     "text": [
      "100%|██████████| 2251/2251 [05:07<00:00,  7.36it/s]\n",
      "  0%|          | 1/2140 [00:00<04:51,  7.33it/s]"
     ]
    },
    {
     "name": "stdout",
     "output_type": "stream",
     "text": [
      "Processing gender: ./5000-12000/male/\n",
      "Files: 2140\n"
     ]
    },
    {
     "name": "stderr",
     "output_type": "stream",
     "text": [
      "100%|██████████| 2140/2140 [04:54<00:00,  7.30it/s]\n",
      "  0%|          | 1/2213 [00:00<05:37,  6.56it/s]"
     ]
    },
    {
     "name": "stdout",
     "output_type": "stream",
     "text": [
      "\n",
      "Present length:14000\n",
      "Processing gender: ./5000-14000/female/\n",
      "Files: 2213\n"
     ]
    },
    {
     "name": "stderr",
     "output_type": "stream",
     "text": [
      "100%|██████████| 2213/2213 [05:50<00:00,  6.09it/s]\n",
      "  0%|          | 1/2083 [00:00<05:32,  6.25it/s]"
     ]
    },
    {
     "name": "stdout",
     "output_type": "stream",
     "text": [
      "Processing gender: ./5000-14000/male/\n",
      "Files: 2083\n"
     ]
    },
    {
     "name": "stderr",
     "output_type": "stream",
     "text": [
      "100%|██████████| 2083/2083 [05:24<00:00,  6.39it/s]\n",
      "  0%|          | 1/2179 [00:00<06:25,  5.65it/s]"
     ]
    },
    {
     "name": "stdout",
     "output_type": "stream",
     "text": [
      "\n",
      "Present length:16000\n",
      "Processing gender: ./5000-16000/female/\n",
      "Files: 2179\n"
     ]
    },
    {
     "name": "stderr",
     "output_type": "stream",
     "text": [
      "100%|██████████| 2179/2179 [06:27<00:00,  5.82it/s]\n",
      "  0%|          | 1/2043 [00:00<05:51,  5.80it/s]"
     ]
    },
    {
     "name": "stdout",
     "output_type": "stream",
     "text": [
      "Processing gender: ./5000-16000/male/\n",
      "Files: 2043\n"
     ]
    },
    {
     "name": "stderr",
     "output_type": "stream",
     "text": [
      "100%|██████████| 2043/2043 [06:08<00:00,  5.39it/s]\n",
      "  0%|          | 0/2153 [00:00<?, ?it/s]"
     ]
    },
    {
     "name": "stdout",
     "output_type": "stream",
     "text": [
      "\n",
      "Present length:18000\n",
      "Processing gender: ./5000-18000/female/\n",
      "Files: 2153\n"
     ]
    },
    {
     "name": "stderr",
     "output_type": "stream",
     "text": [
      "100%|██████████| 2153/2153 [07:15<00:00,  5.02it/s]\n",
      "  0%|          | 0/2003 [00:00<?, ?it/s]"
     ]
    },
    {
     "name": "stdout",
     "output_type": "stream",
     "text": [
      "Processing gender: ./5000-18000/male/\n",
      "Files: 2003\n"
     ]
    },
    {
     "name": "stderr",
     "output_type": "stream",
     "text": [
      "100%|██████████| 2003/2003 [06:43<00:00,  4.78it/s]\n"
     ]
    }
   ],
   "source": [
    "#verb\n",
    "window = 10\n",
    "MinCount = 10\n",
    "\n",
    "occupations = load_doc('verb.txt').split('\\n')\n",
    "occupations += [getUpper(w) for w in occupations if len(w) > 0]\n",
    "\n",
    "for txtlength in txtlengths:\n",
    "    biasPList = []\n",
    "    biasPCList = []\n",
    "    scorePList = []\n",
    "    scorePCList = []\n",
    "    scoreDictList = []\n",
    "    maleRatio = []\n",
    "    global_count_female = 0\n",
    "    df_per_txt = pd.DataFrame()\n",
    "    data_dir = f\"./5000-{txtlength}\"\n",
    "    print('\\nPresent length:{}'.format(txtlength))\n",
    "\n",
    "    for gender in [0, 1]:\n",
    "        if gender == 0:\n",
    "            txtDir = f'{data_dir}/female/'\n",
    "        else:\n",
    "            txtDir = f'{data_dir}/male/'\n",
    "\n",
    "        print(\"Processing gender: {}\".format(txtDir))\n",
    "        blogs_gender = os.listdir(txtDir)\n",
    "        print(\"Files:\", len(os.listdir(txtDir)))\n",
    "        for i in tqdm(range(0, len(blogs_gender))):\n",
    "            m = blogs_gender[i]\n",
    "            maleCount = 0\n",
    "            femaleCount = 0\n",
    "            data = {}\n",
    "            txt_path = txtDir + m\n",
    "            data = get_cooccurrences(txt_path, data, window)\n",
    "            mCount, fCount = getGenderCounts(txt_path)\n",
    "            maleCount = mCount\n",
    "            femaleCount = fCount\n",
    "            scores_p, scores_pc, scores_dict = gender_ratios_m_f(\n",
    "                data, maleCount, femaleCount)\n",
    "            global_count_female += 1\n",
    "\n",
    "            row_dict = dict()\n",
    "\n",
    "            row_dict['word ratio'] = (maleCount + 0.000001) / (\n",
    "                maleCount + femaleCount + 0.000001)\n",
    "            row_dict['male'] = maleCount + 0.000001\n",
    "            row_dict['female'] = femaleCount + 0.000001\n",
    "            row_dict['bias'] = sum(scores_p) / max(len(scores_p), 1)\n",
    "            row_dict['biasPC'] = sum(scores_pc) / max(len(scores_pc), 1)\n",
    "            row_dict['scores_dict'] = scores_dict\n",
    "            row_dict['gender'] = gender\n",
    "\n",
    "            df_per_txt = df_per_txt.append(row_dict, ignore_index=True)\n",
    "\n",
    "    df_per_txt.to_csv(f'5000-{txtlength}_genderbias-verb.csv', index=False)"
   ]
  }
 ],
 "metadata": {
  "kernelspec": {
   "display_name": "nlp",
   "language": "python",
   "name": "nlp"
  },
  "language_info": {
   "codemirror_mode": {
    "name": "ipython",
    "version": 3
   },
   "file_extension": ".py",
   "mimetype": "text/x-python",
   "name": "python",
   "nbconvert_exporter": "python",
   "pygments_lexer": "ipython3",
   "version": "3.6.8"
  },
  "varInspector": {
   "cols": {
    "lenName": 16,
    "lenType": 16,
    "lenVar": 40
   },
   "kernels_config": {
    "python": {
     "delete_cmd_postfix": "",
     "delete_cmd_prefix": "del ",
     "library": "var_list.py",
     "varRefreshCmd": "print(var_dic_list())"
    },
    "r": {
     "delete_cmd_postfix": ") ",
     "delete_cmd_prefix": "rm(",
     "library": "var_list.r",
     "varRefreshCmd": "cat(var_dic_list()) "
    }
   },
   "types_to_exclude": [
    "module",
    "function",
    "builtin_function_or_method",
    "instance",
    "_Feature"
   ],
   "window_display": false
  }
 },
 "nbformat": 4,
 "nbformat_minor": 2
}
