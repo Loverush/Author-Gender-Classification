{
 "cells": [
  {
   "cell_type": "markdown",
   "metadata": {},
   "source": [
    "## 1. Init"
   ]
  },
  {
   "cell_type": "code",
   "execution_count": 18,
   "metadata": {
    "ExecuteTime": {
     "end_time": "2019-08-09T11:45:55.829248Z",
     "start_time": "2019-08-09T11:45:55.825329Z"
    },
    "pycharm": {
     "is_executing": false
    }
   },
   "outputs": [],
   "source": [
    "import os\n",
    "import os.path as op\n",
    "import nltk\n",
    "import re\n",
    "from tqdm import tqdm_notebook as tqdm\n",
    "import numpy as np\n",
    "import pandas as pd\n",
    "from collections import Counter\n",
    "\n",
    "import sklearn\n",
    "from sklearn.ensemble import RandomForestClassifier\n",
    "from sklearn.metrics import accuracy_score\n",
    "from sklearn.model_selection import train_test_split, cross_val_score\n",
    "from func import *"
   ]
  },
  {
   "cell_type": "markdown",
   "metadata": {},
   "source": [
    "## 2. Feature Engineering\n",
    "### 2.1 Blogs"
   ]
  },
  {
   "cell_type": "code",
   "execution_count": null,
   "metadata": {
    "code_folding": [
     0
    ]
   },
   "outputs": [],
   "source": [
    "#Mine POS patterns\n",
    "tagList = [\n",
    "    'NN', 'CC', 'LS', 'PDT', 'POS', 'SYM', 'NNS', 'NNP', 'NNPS', 'FW', 'CD',\n",
    "    'JJ', 'JJR', 'JJS', 'IN', 'TO', 'DT', 'EX', 'PRP', 'PRP$', 'WDT', 'WP',\n",
    "    'WP$', 'MD', 'VB', 'VBZ', 'VBP', 'VBD', 'VBN', 'VBG', 'RB', 'RBR', 'RBS',\n",
    "    'RP', 'WRB', 'UH', '.'\n",
    "]\n",
    "\n",
    "for gender in [0, 1]:\n",
    "    if gender == 0:\n",
    "        txtDir = './postprocess_blogs/blogs/female/'\n",
    "    else:\n",
    "        txtDir = './postprocess_blogs/blogs/male/'\n",
    "\n",
    "    print(\"Processing gender: {}\".format(txtDir))\n",
    "    blogs_gender = os.listdir(txtDir)\n",
    "    for i in range(0, len(blogs_gender)):\n",
    "        m = blogs_gender[i]\n",
    "        print(\"Processing: \", m)\n",
    "        print(\"Files:\", len(os.listdir(txtDir + m)))\n",
    "        for file in os.listdir(txtDir + m):\n",
    "            text = gettext(txtDir + m + '/' + file)\n",
    "            sentences = nltk.sent_tokenize(text)\n",
    "            CorpusPOS(sentences)\n",
    "\n",
    "infile = open('CorpusPOS.txt', 'r')\n",
    "cPOS = infile.readlines()\n",
    "infile.close()\n",
    "(a, b, c, d, e) = calc_probabilities(cPOS)\n",
    "q1_output(a, b, c, d, e)\n",
    "\n",
    "Prob = {}\n",
    "infile = open('probabilities.txt', 'r')\n",
    "prob_text = infile.readlines()\n",
    "\n",
    "for sentence in prob_text:\n",
    "    keyValPair = sentence.split(\":\")\n",
    "    Prob[keyValPair[0]] = float(keyValPair[1][:-1])\n",
    "\n",
    "infile.close()\n",
    "\n",
    "posFeatures = minePOSPats(cPOS)"
   ]
  },
  {
   "cell_type": "code",
   "execution_count": null,
   "metadata": {
    "code_folding": [
     0
    ]
   },
   "outputs": [],
   "source": [
    "#Feature extract\n",
    "names = []\n",
    "F_features = []\n",
    "GRF_features = []\n",
    "WC_features = []\n",
    "labels = []\n",
    "\n",
    "for gender in [0, 1]:\n",
    "    if gender == 0:\n",
    "        txtDir = './blogs-2000/female/'\n",
    "    else:\n",
    "        txtDir = './blogs-2000/male/'\n",
    "\n",
    "    print(\"Processing gender: {}\".format(txtDir))\n",
    "    blogs_gender = os.listdir(txtDir)\n",
    "    for i in tqdm(range(0, len(blogs_gender))):\n",
    "        m = blogs_gender[i]\n",
    "        print(\"Processing: \", m)\n",
    "        print(\"Files:\", len(os.listdir(txtDir + m)))\n",
    "        for file in tqdm(os.listdir(txtDir + m), leave=False):\n",
    "            name = txtDir + m + '/' + file\n",
    "            text = gettext(name)\n",
    "            words = nltk.word_tokenize(text)\n",
    "            tags = nltk.pos_tag(words)\n",
    "            words_l = wordlemmatize(tags)\n",
    "\n",
    "            F_feature = F_measure(tags)\n",
    "            GRF_feature = Gender_Preferential_Features(words_l)\n",
    "            WC_feature = Word_Classes_Feature(words_l)\n",
    "\n",
    "            names.append(name)\n",
    "            lengths.append(length)\n",
    "            F_features.append(F_feature)\n",
    "            GRF_features.append(GRF_feature)\n",
    "            WC_features.append(WC_feature)\n",
    "            labels.append(gender)\n",
    "\n",
    "WC_features_l = []\n",
    "GRF_features_l = []\n",
    "\n",
    "for i in range(len(WC_features[0])):\n",
    "    n = i\n",
    "    WC_features_l.append(getsingle(WC_features, n))\n",
    "\n",
    "for i in range(len(GRF_features[0])):\n",
    "    n = i\n",
    "    GRF_features_l.append(getsingle(GRF_features, n))\n",
    "\n",
    "map1 = {'name': names, 'label': labels, 'F_feature': F_features}\n",
    "\n",
    "for i in range(len(WC_features[0])):\n",
    "    key = 'WC_' + str(i + 1)\n",
    "    value = WC_features_l[i]\n",
    "    map1[key] = value\n",
    "\n",
    "for i in range(len(GRF_features[0])):\n",
    "    key = 'GRF_' + str(i + 1)\n",
    "    value = GRF_features_l[i]\n",
    "    map1[key] = value\n",
    "\n",
    "allofall = pd.DataFrame(map1)\n",
    "\n",
    "F_features_u = np.array(F_features)\n",
    "F_features_u = (F_features_u - np.mean(F_features_u)) / np.std(F_features_u)\n",
    "allofall['F_feature'] = F_features_u\n",
    "\n",
    "allofall.to_csv('allofall_blogs-2000.csv', index=False)"
   ]
  },
  {
   "cell_type": "code",
   "execution_count": null,
   "metadata": {
    "code_folding": [
     0
    ]
   },
   "outputs": [],
   "source": [
    "#Get single\n",
    "WC_features_l = []\n",
    "for i in range(len(WC_features[0])):\n",
    "    n = i\n",
    "    WC_features_l.append(getsingle(WC_features, n))\n",
    "\n",
    "GRF_features_l = []\n",
    "for i in range(len(GRF_features[0])):\n",
    "    n = i\n",
    "    GRF_features_l.append(getsingle(GRF_features, n))\n",
    "\n",
    "POS_features_l = []\n",
    "for i in range(len(POS_features[0])):\n",
    "    n = i\n",
    "    POS_features_l.append(getsingle(POS_features, n))"
   ]
  },
  {
   "cell_type": "code",
   "execution_count": null,
   "metadata": {
    "code_folding": [
     0
    ]
   },
   "outputs": [],
   "source": [
    "#Get DataFrame\n",
    "map1 = {'name': names, 'label': labels, 'F_feature': F_features}\n",
    "\n",
    "for i in range(len(WC_features[0])):\n",
    "    key = 'WC_' + str(i + 1)\n",
    "    value = WC_features_l[i]\n",
    "    map1[key] = value\n",
    "\n",
    "for i in range(len(GRF_features[0])):\n",
    "    key = 'GRF_' + str(i + 1)\n",
    "    value = GRF_features_l[i]\n",
    "    map1[key] = value\n",
    "\n",
    "for i in range(len(POS_features[0])):\n",
    "    key = 'POS_' + str(i + 1)\n",
    "    value = POS_features_l[i]\n",
    "    map1[key] = value\n",
    "\n",
    "allofall = pd.DataFrame(map1)\n",
    "F_features_u = np.array(F_features)\n",
    "F_features_u = (F_features_u - np.mean(F_features_u)) / np.std(F_features_u)\n",
    "allofall['F_feature'] = F_features_u\n",
    "\n",
    "allofall.to_csv('allofall_blogs.csv', index=False)\n",
    "genderbias = pd.read_csv('blogs_genderbias.csv')\n",
    "allofall['bias'], allofall['word ratio'] = genderbias['bias'], genderbias[\n",
    "    'word ratio']\n",
    "allofall.to_csv('blogs_features.csv', index=False)"
   ]
  },
  {
   "cell_type": "code",
   "execution_count": 12,
   "metadata": {
    "ExecuteTime": {
     "end_time": "2019-08-09T08:20:58.286493Z",
     "start_time": "2019-08-09T08:17:42.076869Z"
    },
    "code_folding": [
     0
    ],
    "scrolled": true
   },
   "outputs": [
    {
     "name": "stdout",
     "output_type": "stream",
     "text": [
      "Processing gender: ./postprocess_blogs/blogs/female/\n"
     ]
    },
    {
     "data": {
      "application/vnd.jupyter.widget-view+json": {
       "model_id": "",
       "version_major": 2,
       "version_minor": 0
      },
      "text/plain": [
       "HBox(children=(IntProgress(value=0, max=40), HTML(value='')))"
      ]
     },
     "metadata": {},
     "output_type": "display_data"
    },
    {
     "name": "stdout",
     "output_type": "stream",
     "text": [
      "Processing:  Tourism\n",
      "Files: 54\n"
     ]
    },
    {
     "data": {
      "application/vnd.jupyter.widget-view+json": {
       "model_id": "af64ed13d7bb4ab4867bd5523e5776a5",
       "version_major": 2,
       "version_minor": 0
      },
      "text/plain": [
       "HBox(children=(IntProgress(value=0, max=54), HTML(value='')))"
      ]
     },
     "metadata": {},
     "output_type": "display_data"
    },
    {
     "name": "stdout",
     "output_type": "stream",
     "text": [
      "Processing:  HumanResources\n",
      "Files: 53\n"
     ]
    },
    {
     "data": {
      "application/vnd.jupyter.widget-view+json": {
       "model_id": "37537b376beb442f931fc1c6d4d01a5c",
       "version_major": 2,
       "version_minor": 0
      },
      "text/plain": [
       "HBox(children=(IntProgress(value=0, max=53), HTML(value='')))"
      ]
     },
     "metadata": {},
     "output_type": "display_data"
    },
    {
     "name": "stdout",
     "output_type": "stream",
     "text": [
      "Processing:  RealEstate\n",
      "Files: 39\n"
     ]
    },
    {
     "data": {
      "application/vnd.jupyter.widget-view+json": {
       "model_id": "5e7167d788f249d5a55ce0ff57f2765c",
       "version_major": 2,
       "version_minor": 0
      },
      "text/plain": [
       "HBox(children=(IntProgress(value=0, max=39), HTML(value='')))"
      ]
     },
     "metadata": {},
     "output_type": "display_data"
    },
    {
     "name": "stdout",
     "output_type": "stream",
     "text": [
      "Processing:  Arts\n",
      "Files: 419\n"
     ]
    },
    {
     "data": {
      "application/vnd.jupyter.widget-view+json": {
       "model_id": "577734be5f3f400f9f1b778a4bbb30d3",
       "version_major": 2,
       "version_minor": 0
      },
      "text/plain": [
       "HBox(children=(IntProgress(value=0, max=419), HTML(value='')))"
      ]
     },
     "metadata": {},
     "output_type": "display_data"
    },
    {
     "name": "stdout",
     "output_type": "stream",
     "text": [
      "Processing:  Sports-Recreation\n",
      "Files: 36\n"
     ]
    },
    {
     "data": {
      "application/vnd.jupyter.widget-view+json": {
       "model_id": "b6beae1763ef4411b7abb21e3a79d225",
       "version_major": 2,
       "version_minor": 0
      },
      "text/plain": [
       "HBox(children=(IntProgress(value=0, max=36), HTML(value='')))"
      ]
     },
     "metadata": {},
     "output_type": "display_data"
    },
    {
     "name": "stdout",
     "output_type": "stream",
     "text": [
      "Processing:  Student\n",
      "Files: 2479\n"
     ]
    },
    {
     "data": {
      "application/vnd.jupyter.widget-view+json": {
       "model_id": "52619e3f5cb74b1e8a7d88dfcc1e657f",
       "version_major": 2,
       "version_minor": 0
      },
      "text/plain": [
       "HBox(children=(IntProgress(value=0, max=2479), HTML(value='')))"
      ]
     },
     "metadata": {},
     "output_type": "display_data"
    },
    {
     "name": "stdout",
     "output_type": "stream",
     "text": [
      "Processing:  Manufacturing\n",
      "Files: 24\n"
     ]
    },
    {
     "data": {
      "application/vnd.jupyter.widget-view+json": {
       "model_id": "067545516629447b88e25430adef28fc",
       "version_major": 2,
       "version_minor": 0
      },
      "text/plain": [
       "HBox(children=(IntProgress(value=0, max=24), HTML(value='')))"
      ]
     },
     "metadata": {},
     "output_type": "display_data"
    },
    {
     "name": "stdout",
     "output_type": "stream",
     "text": [
      "Processing:  Science\n",
      "Files: 84\n"
     ]
    },
    {
     "data": {
      "application/vnd.jupyter.widget-view+json": {
       "model_id": "3798b99c8c6547b6bac4966c9f58a051",
       "version_major": 2,
       "version_minor": 0
      },
      "text/plain": [
       "HBox(children=(IntProgress(value=0, max=84), HTML(value='')))"
      ]
     },
     "metadata": {},
     "output_type": "display_data"
    },
    {
     "name": "stdout",
     "output_type": "stream",
     "text": [
      "Processing:  LawEnforcement-Security\n",
      "Files: 26\n"
     ]
    },
    {
     "data": {
      "application/vnd.jupyter.widget-view+json": {
       "model_id": "78d1fe3243764842b1b3c2da4d1dd15e",
       "version_major": 2,
       "version_minor": 0
      },
      "text/plain": [
       "HBox(children=(IntProgress(value=0, max=26), HTML(value='')))"
      ]
     },
     "metadata": {},
     "output_type": "display_data"
    },
    {
     "name": "stdout",
     "output_type": "stream",
     "text": [
      "Processing:  Architecture\n",
      "Files: 35\n"
     ]
    },
    {
     "data": {
      "application/vnd.jupyter.widget-view+json": {
       "model_id": "26d9cc8d3ead4fb1bea00e28c2c40ade",
       "version_major": 2,
       "version_minor": 0
      },
      "text/plain": [
       "HBox(children=(IntProgress(value=0, max=35), HTML(value='')))"
      ]
     },
     "metadata": {},
     "output_type": "display_data"
    },
    {
     "name": "stdout",
     "output_type": "stream",
     "text": [
      "Processing:  Accounting\n",
      "Files: 74\n"
     ]
    },
    {
     "data": {
      "application/vnd.jupyter.widget-view+json": {
       "model_id": "43f1367b66ac40509f071630fa149af8",
       "version_major": 2,
       "version_minor": 0
      },
      "text/plain": [
       "HBox(children=(IntProgress(value=0, max=74), HTML(value='')))"
      ]
     },
     "metadata": {},
     "output_type": "display_data"
    },
    {
     "name": "stdout",
     "output_type": "stream",
     "text": [
      "Processing:  Chemicals\n",
      "Files: 23\n"
     ]
    },
    {
     "data": {
      "application/vnd.jupyter.widget-view+json": {
       "model_id": "b68f0644daf0446c8d2bdc6a70e26bb6",
       "version_major": 2,
       "version_minor": 0
      },
      "text/plain": [
       "HBox(children=(IntProgress(value=0, max=23), HTML(value='')))"
      ]
     },
     "metadata": {},
     "output_type": "display_data"
    },
    {
     "name": "stdout",
     "output_type": "stream",
     "text": [
      "Processing:  Museums-Libraries\n",
      "Files: 33\n"
     ]
    },
    {
     "data": {
      "application/vnd.jupyter.widget-view+json": {
       "model_id": "e5582f9a687946cf93baf16f3a81f8e5",
       "version_major": 2,
       "version_minor": 0
      },
      "text/plain": [
       "HBox(children=(IntProgress(value=0, max=33), HTML(value='')))"
      ]
     },
     "metadata": {},
     "output_type": "display_data"
    },
    {
     "name": "stdout",
     "output_type": "stream",
     "text": [
      "Processing:  Publishing\n",
      "Files: 79\n"
     ]
    },
    {
     "data": {
      "application/vnd.jupyter.widget-view+json": {
       "model_id": "711e659f6c784a9fa3a16578a4ecf553",
       "version_major": 2,
       "version_minor": 0
      },
      "text/plain": [
       "HBox(children=(IntProgress(value=0, max=79), HTML(value='')))"
      ]
     },
     "metadata": {},
     "output_type": "display_data"
    },
    {
     "name": "stdout",
     "output_type": "stream",
     "text": [
      "Processing:  indUnk\n",
      "Files: 3961\n"
     ]
    },
    {
     "data": {
      "application/vnd.jupyter.widget-view+json": {
       "model_id": "178f84da7214486fac2e19834141dd45",
       "version_major": 2,
       "version_minor": 0
      },
      "text/plain": [
       "HBox(children=(IntProgress(value=0, max=3961), HTML(value='')))"
      ]
     },
     "metadata": {},
     "output_type": "display_data"
    },
    {
     "name": "stdout",
     "output_type": "stream",
     "text": [
      "Processing:  Agriculture\n",
      "Files: 20\n"
     ]
    },
    {
     "data": {
      "application/vnd.jupyter.widget-view+json": {
       "model_id": "fc65c13e8d7241ceb23a836f7380f53b",
       "version_major": 2,
       "version_minor": 0
      },
      "text/plain": [
       "HBox(children=(IntProgress(value=0, max=20), HTML(value='')))"
      ]
     },
     "metadata": {},
     "output_type": "display_data"
    },
    {
     "name": "stdout",
     "output_type": "stream",
     "text": [
      "Processing:  Environment\n",
      "Files: 14\n"
     ]
    },
    {
     "data": {
      "application/vnd.jupyter.widget-view+json": {
       "model_id": "f565a4fcb48a4836884aa78f1fac8d7d",
       "version_major": 2,
       "version_minor": 0
      },
      "text/plain": [
       "HBox(children=(IntProgress(value=0, max=14), HTML(value='')))"
      ]
     },
     "metadata": {},
     "output_type": "display_data"
    },
    {
     "name": "stdout",
     "output_type": "stream",
     "text": [
      "Processing:  Banking\n",
      "Files: 47\n"
     ]
    },
    {
     "data": {
      "application/vnd.jupyter.widget-view+json": {
       "model_id": "2be8dd75ab73434e911bbea0934c523c",
       "version_major": 2,
       "version_minor": 0
      },
      "text/plain": [
       "HBox(children=(IntProgress(value=0, max=47), HTML(value='')))"
      ]
     },
     "metadata": {},
     "output_type": "display_data"
    },
    {
     "name": "stdout",
     "output_type": "stream",
     "text": [
      "Processing:  Telecommunications\n",
      "Files: 40\n"
     ]
    },
    {
     "data": {
      "application/vnd.jupyter.widget-view+json": {
       "model_id": "9642c58ce2da4bb49b22d228af19568d",
       "version_major": 2,
       "version_minor": 0
      },
      "text/plain": [
       "HBox(children=(IntProgress(value=0, max=40), HTML(value='')))"
      ]
     },
     "metadata": {},
     "output_type": "display_data"
    },
    {
     "name": "stdout",
     "output_type": "stream",
     "text": [
      "Processing:  Non-Profit\n",
      "Files: 194\n"
     ]
    },
    {
     "data": {
      "application/vnd.jupyter.widget-view+json": {
       "model_id": "54472197e6ef441784b5bdf996121660",
       "version_major": 2,
       "version_minor": 0
      },
      "text/plain": [
       "HBox(children=(IntProgress(value=0, max=194), HTML(value='')))"
      ]
     },
     "metadata": {},
     "output_type": "display_data"
    },
    {
     "name": "stdout",
     "output_type": "stream",
     "text": [
      "Processing:  Religion\n",
      "Files: 43\n"
     ]
    },
    {
     "data": {
      "application/vnd.jupyter.widget-view+json": {
       "model_id": "25b3e2e78bd841ad91ad83a7d4c1c5cf",
       "version_major": 2,
       "version_minor": 0
      },
      "text/plain": [
       "HBox(children=(IntProgress(value=0, max=43), HTML(value='')))"
      ]
     },
     "metadata": {},
     "output_type": "display_data"
    },
    {
     "name": "stdout",
     "output_type": "stream",
     "text": [
      "Processing:  Consulting\n",
      "Files: 73\n"
     ]
    },
    {
     "data": {
      "application/vnd.jupyter.widget-view+json": {
       "model_id": "2669a1f9e60a4e15901791d09e0a2a5f",
       "version_major": 2,
       "version_minor": 0
      },
      "text/plain": [
       "HBox(children=(IntProgress(value=0, max=73), HTML(value='')))"
      ]
     },
     "metadata": {},
     "output_type": "display_data"
    },
    {
     "name": "stdout",
     "output_type": "stream",
     "text": [
      "Processing:  Advertising\n",
      "Files: 75\n"
     ]
    },
    {
     "data": {
      "application/vnd.jupyter.widget-view+json": {
       "model_id": "53bcce9b2b1b411483a6a6b8ac5754bf",
       "version_major": 2,
       "version_minor": 0
      },
      "text/plain": [
       "HBox(children=(IntProgress(value=0, max=75), HTML(value='')))"
      ]
     },
     "metadata": {},
     "output_type": "display_data"
    },
    {
     "name": "stdout",
     "output_type": "stream",
     "text": [
      "Processing:  Internet\n",
      "Files: 101\n"
     ]
    },
    {
     "data": {
      "application/vnd.jupyter.widget-view+json": {
       "model_id": "5628879678d941b2a78c5d7225a8346c",
       "version_major": 2,
       "version_minor": 0
      },
      "text/plain": [
       "HBox(children=(IntProgress(value=0, max=101), HTML(value='')))"
      ]
     },
     "metadata": {},
     "output_type": "display_data"
    },
    {
     "name": "stdout",
     "output_type": "stream",
     "text": [
      "Processing:  Construction\n",
      "Files: 22\n"
     ]
    },
    {
     "data": {
      "application/vnd.jupyter.widget-view+json": {
       "model_id": "e3a9586d1a614173b207132be3d98439",
       "version_major": 2,
       "version_minor": 0
      },
      "text/plain": [
       "HBox(children=(IntProgress(value=0, max=22), HTML(value='')))"
      ]
     },
     "metadata": {},
     "output_type": "display_data"
    },
    {
     "name": "stdout",
     "output_type": "stream",
     "text": [
      "Processing:  Technology\n",
      "Files: 180\n"
     ]
    },
    {
     "data": {
      "application/vnd.jupyter.widget-view+json": {
       "model_id": "3ea0f525d2d444fbb31c91fbe28bc853",
       "version_major": 2,
       "version_minor": 0
      },
      "text/plain": [
       "HBox(children=(IntProgress(value=0, max=180), HTML(value='')))"
      ]
     },
     "metadata": {},
     "output_type": "display_data"
    },
    {
     "name": "stdout",
     "output_type": "stream",
     "text": [
      "Processing:  Education\n",
      "Files: 570\n"
     ]
    },
    {
     "data": {
      "application/vnd.jupyter.widget-view+json": {
       "model_id": "a41323a2cd4340c5a2a4417b7acfe28f",
       "version_major": 2,
       "version_minor": 0
      },
      "text/plain": [
       "HBox(children=(IntProgress(value=0, max=570), HTML(value='')))"
      ]
     },
     "metadata": {},
     "output_type": "display_data"
    },
    {
     "name": "stdout",
     "output_type": "stream",
     "text": [
      "Processing:  InvestmentBanking\n",
      "Files: 10\n"
     ]
    },
    {
     "data": {
      "application/vnd.jupyter.widget-view+json": {
       "model_id": "543068b73ec04152823288060ad037d9",
       "version_major": 2,
       "version_minor": 0
      },
      "text/plain": [
       "HBox(children=(IntProgress(value=0, max=10), HTML(value='')))"
      ]
     },
     "metadata": {},
     "output_type": "display_data"
    },
    {
     "name": "stdout",
     "output_type": "stream",
     "text": [
      "Processing:  Marketing\n",
      "Files: 107\n"
     ]
    },
    {
     "data": {
      "application/vnd.jupyter.widget-view+json": {
       "model_id": "352d730a374f4c1a8022b472980f3731",
       "version_major": 2,
       "version_minor": 0
      },
      "text/plain": [
       "HBox(children=(IntProgress(value=0, max=107), HTML(value='')))"
      ]
     },
     "metadata": {},
     "output_type": "display_data"
    },
    {
     "name": "stdout",
     "output_type": "stream",
     "text": [
      "Processing:  Transportation\n",
      "Files: 35\n"
     ]
    },
    {
     "data": {
      "application/vnd.jupyter.widget-view+json": {
       "model_id": "6b3162b167fe42418b007a100c3144a9",
       "version_major": 2,
       "version_minor": 0
      },
      "text/plain": [
       "HBox(children=(IntProgress(value=0, max=35), HTML(value='')))"
      ]
     },
     "metadata": {},
     "output_type": "display_data"
    },
    {
     "name": "stdout",
     "output_type": "stream",
     "text": [
      "Processing:  Biotech\n",
      "Files: 20\n"
     ]
    },
    {
     "data": {
      "application/vnd.jupyter.widget-view+json": {
       "model_id": "8f9a19a0a3ea4ecbb23e00ed749803b6",
       "version_major": 2,
       "version_minor": 0
      },
      "text/plain": [
       "HBox(children=(IntProgress(value=0, max=20), HTML(value='')))"
      ]
     },
     "metadata": {},
     "output_type": "display_data"
    },
    {
     "name": "stdout",
     "output_type": "stream",
     "text": [
      "Processing:  Fashion\n",
      "Files: 73\n"
     ]
    },
    {
     "data": {
      "application/vnd.jupyter.widget-view+json": {
       "model_id": "fc129ba487d34200868a7586c256c9f6",
       "version_major": 2,
       "version_minor": 0
      },
      "text/plain": [
       "HBox(children=(IntProgress(value=0, max=73), HTML(value='')))"
      ]
     },
     "metadata": {},
     "output_type": "display_data"
    },
    {
     "name": "stdout",
     "output_type": "stream",
     "text": [
      "Processing:  Government\n",
      "Files: 95\n"
     ]
    },
    {
     "data": {
      "application/vnd.jupyter.widget-view+json": {
       "model_id": "7b7fa2fb0b2e4166a627aa0c4e225ac6",
       "version_major": 2,
       "version_minor": 0
      },
      "text/plain": [
       "HBox(children=(IntProgress(value=0, max=95), HTML(value='')))"
      ]
     },
     "metadata": {},
     "output_type": "display_data"
    },
    {
     "name": "stdout",
     "output_type": "stream",
     "text": [
      "Processing:  BusinessServices\n",
      "Files: 81\n"
     ]
    },
    {
     "data": {
      "application/vnd.jupyter.widget-view+json": {
       "model_id": "0c4c7f14a38c4df891092adfdf62614a",
       "version_major": 2,
       "version_minor": 0
      },
      "text/plain": [
       "HBox(children=(IntProgress(value=0, max=81), HTML(value='')))"
      ]
     },
     "metadata": {},
     "output_type": "display_data"
    },
    {
     "name": "stdout",
     "output_type": "stream",
     "text": [
      "Processing:  Engineering\n",
      "Files: 70\n"
     ]
    },
    {
     "data": {
      "application/vnd.jupyter.widget-view+json": {
       "model_id": "c3ebe1aa8164497ab87fc6385d81ef4d",
       "version_major": 2,
       "version_minor": 0
      },
      "text/plain": [
       "HBox(children=(IntProgress(value=0, max=70), HTML(value='')))"
      ]
     },
     "metadata": {},
     "output_type": "display_data"
    },
    {
     "name": "stdout",
     "output_type": "stream",
     "text": [
      "Processing:  Law\n",
      "Files: 109\n"
     ]
    },
    {
     "data": {
      "application/vnd.jupyter.widget-view+json": {
       "model_id": "95d067b1284e46f6a45d60f10c2cc143",
       "version_major": 2,
       "version_minor": 0
      },
      "text/plain": [
       "HBox(children=(IntProgress(value=0, max=109), HTML(value='')))"
      ]
     },
     "metadata": {},
     "output_type": "display_data"
    },
    {
     "name": "stdout",
     "output_type": "stream",
     "text": [
      "Processing:  Automotive\n",
      "Files: 17\n"
     ]
    },
    {
     "data": {
      "application/vnd.jupyter.widget-view+json": {
       "model_id": "94a7af046b7b4e1486b41e867472fd64",
       "version_major": 2,
       "version_minor": 0
      },
      "text/plain": [
       "HBox(children=(IntProgress(value=0, max=17), HTML(value='')))"
      ]
     },
     "metadata": {},
     "output_type": "display_data"
    },
    {
     "name": "stdout",
     "output_type": "stream",
     "text": [
      "Processing:  Maritime\n",
      "Files: 4\n"
     ]
    },
    {
     "data": {
      "application/vnd.jupyter.widget-view+json": {
       "model_id": "b09171012cad4651a514ff115ffa8c12",
       "version_major": 2,
       "version_minor": 0
      },
      "text/plain": [
       "HBox(children=(IntProgress(value=0, max=4), HTML(value='')))"
      ]
     },
     "metadata": {},
     "output_type": "display_data"
    },
    {
     "name": "stdout",
     "output_type": "stream",
     "text": [
      "Processing:  Military\n",
      "Files: 32\n"
     ]
    },
    {
     "data": {
      "application/vnd.jupyter.widget-view+json": {
       "model_id": "f7d4fd3aabc3406d9899e447526f5adc",
       "version_major": 2,
       "version_minor": 0
      },
      "text/plain": [
       "HBox(children=(IntProgress(value=0, max=32), HTML(value='')))"
      ]
     },
     "metadata": {},
     "output_type": "display_data"
    },
    {
     "name": "stdout",
     "output_type": "stream",
     "text": [
      "Processing:  Communications-Media\n",
      "Files: 209\n"
     ]
    },
    {
     "data": {
      "application/vnd.jupyter.widget-view+json": {
       "model_id": "068be006448d4f5a9f76ae936f06779e",
       "version_major": 2,
       "version_minor": 0
      },
      "text/plain": [
       "HBox(children=(IntProgress(value=0, max=209), HTML(value='')))"
      ]
     },
     "metadata": {},
     "output_type": "display_data"
    },
    {
     "name": "stdout",
     "output_type": "stream",
     "text": [
      "Processing gender: ./postprocess_blogs/blogs/male/\n"
     ]
    },
    {
     "data": {
      "application/vnd.jupyter.widget-view+json": {
       "model_id": "",
       "version_major": 2,
       "version_minor": 0
      },
      "text/plain": [
       "HBox(children=(IntProgress(value=0, max=40), HTML(value='')))"
      ]
     },
     "metadata": {},
     "output_type": "display_data"
    },
    {
     "name": "stdout",
     "output_type": "stream",
     "text": [
      "Processing:  Tourism\n",
      "Files: 40\n"
     ]
    },
    {
     "data": {
      "application/vnd.jupyter.widget-view+json": {
       "model_id": "d4068f7b3fb84356a479e1d5f97dec02",
       "version_major": 2,
       "version_minor": 0
      },
      "text/plain": [
       "HBox(children=(IntProgress(value=0, max=40), HTML(value='')))"
      ]
     },
     "metadata": {},
     "output_type": "display_data"
    },
    {
     "name": "stdout",
     "output_type": "stream",
     "text": [
      "Processing:  HumanResources\n",
      "Files: 41\n"
     ]
    },
    {
     "data": {
      "application/vnd.jupyter.widget-view+json": {
       "model_id": "8e7f7139f20d4d779766a4208e1c2207",
       "version_major": 2,
       "version_minor": 0
      },
      "text/plain": [
       "HBox(children=(IntProgress(value=0, max=41), HTML(value='')))"
      ]
     },
     "metadata": {},
     "output_type": "display_data"
    },
    {
     "name": "stdout",
     "output_type": "stream",
     "text": [
      "Processing:  RealEstate\n",
      "Files: 16\n"
     ]
    },
    {
     "data": {
      "application/vnd.jupyter.widget-view+json": {
       "model_id": "d4ded15f845f40dcaf5347d5c012cdfa",
       "version_major": 2,
       "version_minor": 0
      },
      "text/plain": [
       "HBox(children=(IntProgress(value=0, max=16), HTML(value='')))"
      ]
     },
     "metadata": {},
     "output_type": "display_data"
    },
    {
     "name": "stdout",
     "output_type": "stream",
     "text": [
      "Processing:  Arts\n",
      "Files: 302\n"
     ]
    },
    {
     "data": {
      "application/vnd.jupyter.widget-view+json": {
       "model_id": "bc448780630e459992f1636b7123226c",
       "version_major": 2,
       "version_minor": 0
      },
      "text/plain": [
       "HBox(children=(IntProgress(value=0, max=302), HTML(value='')))"
      ]
     },
     "metadata": {},
     "output_type": "display_data"
    },
    {
     "name": "stdout",
     "output_type": "stream",
     "text": [
      "Processing:  Sports-Recreation\n",
      "Files: 54\n"
     ]
    },
    {
     "data": {
      "application/vnd.jupyter.widget-view+json": {
       "model_id": "0c4b647af6fb4bd8b760ede03f78ad52",
       "version_major": 2,
       "version_minor": 0
      },
      "text/plain": [
       "HBox(children=(IntProgress(value=0, max=54), HTML(value='')))"
      ]
     },
     "metadata": {},
     "output_type": "display_data"
    },
    {
     "name": "stdout",
     "output_type": "stream",
     "text": [
      "Processing:  Student\n",
      "Files: 2641\n"
     ]
    },
    {
     "data": {
      "application/vnd.jupyter.widget-view+json": {
       "model_id": "a64cf0b6322c446793c368a0f5793c6a",
       "version_major": 2,
       "version_minor": 0
      },
      "text/plain": [
       "HBox(children=(IntProgress(value=0, max=2641), HTML(value='')))"
      ]
     },
     "metadata": {},
     "output_type": "display_data"
    },
    {
     "name": "stdout",
     "output_type": "stream",
     "text": [
      "Processing:  Manufacturing\n",
      "Files: 63\n"
     ]
    },
    {
     "data": {
      "application/vnd.jupyter.widget-view+json": {
       "model_id": "9918fd2677cd4b3db6cb33eaee3668f5",
       "version_major": 2,
       "version_minor": 0
      },
      "text/plain": [
       "HBox(children=(IntProgress(value=0, max=63), HTML(value='')))"
      ]
     },
     "metadata": {},
     "output_type": "display_data"
    },
    {
     "name": "stdout",
     "output_type": "stream",
     "text": [
      "Processing:  Science\n",
      "Files: 100\n"
     ]
    },
    {
     "data": {
      "application/vnd.jupyter.widget-view+json": {
       "model_id": "01f6ad9bef3940f295173fe40ce3ac92",
       "version_major": 2,
       "version_minor": 0
      },
      "text/plain": [
       "HBox(children=(IntProgress(value=0), HTML(value='')))"
      ]
     },
     "metadata": {},
     "output_type": "display_data"
    },
    {
     "name": "stdout",
     "output_type": "stream",
     "text": [
      "Processing:  LawEnforcement-Security\n",
      "Files: 31\n"
     ]
    },
    {
     "data": {
      "application/vnd.jupyter.widget-view+json": {
       "model_id": "4990eba3189f481b909a40fca095eb8c",
       "version_major": 2,
       "version_minor": 0
      },
      "text/plain": [
       "HBox(children=(IntProgress(value=0, max=31), HTML(value='')))"
      ]
     },
     "metadata": {},
     "output_type": "display_data"
    },
    {
     "name": "stdout",
     "output_type": "stream",
     "text": [
      "Processing:  Architecture\n",
      "Files: 34\n"
     ]
    },
    {
     "data": {
      "application/vnd.jupyter.widget-view+json": {
       "model_id": "fd27a15b620f4998b2cc4b7af0eec246",
       "version_major": 2,
       "version_minor": 0
      },
      "text/plain": [
       "HBox(children=(IntProgress(value=0, max=34), HTML(value='')))"
      ]
     },
     "metadata": {},
     "output_type": "display_data"
    },
    {
     "name": "stdout",
     "output_type": "stream",
     "text": [
      "Processing:  Accounting\n",
      "Files: 31\n"
     ]
    },
    {
     "data": {
      "application/vnd.jupyter.widget-view+json": {
       "model_id": "b187e4e14cdc47b49d2fb55a67c0d59f",
       "version_major": 2,
       "version_minor": 0
      },
      "text/plain": [
       "HBox(children=(IntProgress(value=0, max=31), HTML(value='')))"
      ]
     },
     "metadata": {},
     "output_type": "display_data"
    },
    {
     "name": "stdout",
     "output_type": "stream",
     "text": [
      "Processing:  Chemicals\n",
      "Files: 39\n"
     ]
    },
    {
     "data": {
      "application/vnd.jupyter.widget-view+json": {
       "model_id": "9dfd665420774bac878f97950d069e3e",
       "version_major": 2,
       "version_minor": 0
      },
      "text/plain": [
       "HBox(children=(IntProgress(value=0, max=39), HTML(value='')))"
      ]
     },
     "metadata": {},
     "output_type": "display_data"
    },
    {
     "name": "stdout",
     "output_type": "stream",
     "text": [
      "Processing:  Museums-Libraries\n",
      "Files: 22\n"
     ]
    },
    {
     "data": {
      "application/vnd.jupyter.widget-view+json": {
       "model_id": "6c0b17406f0e4fbbbd40abf991c81572",
       "version_major": 2,
       "version_minor": 0
      },
      "text/plain": [
       "HBox(children=(IntProgress(value=0, max=22), HTML(value='')))"
      ]
     },
     "metadata": {},
     "output_type": "display_data"
    },
    {
     "name": "stdout",
     "output_type": "stream",
     "text": [
      "Processing:  Publishing\n",
      "Files: 71\n"
     ]
    },
    {
     "data": {
      "application/vnd.jupyter.widget-view+json": {
       "model_id": "4cb2d4657aa5450eb26d81d46d6871e8",
       "version_major": 2,
       "version_minor": 0
      },
      "text/plain": [
       "HBox(children=(IntProgress(value=0, max=71), HTML(value='')))"
      ]
     },
     "metadata": {},
     "output_type": "display_data"
    },
    {
     "name": "stdout",
     "output_type": "stream",
     "text": [
      "Processing:  indUnk\n",
      "Files: 2866\n"
     ]
    },
    {
     "data": {
      "application/vnd.jupyter.widget-view+json": {
       "model_id": "00c802d7f7ac4460971ef5bc405070a1",
       "version_major": 2,
       "version_minor": 0
      },
      "text/plain": [
       "HBox(children=(IntProgress(value=0, max=2866), HTML(value='')))"
      ]
     },
     "metadata": {},
     "output_type": "display_data"
    },
    {
     "name": "stdout",
     "output_type": "stream",
     "text": [
      "Processing:  Agriculture\n",
      "Files: 16\n"
     ]
    },
    {
     "data": {
      "application/vnd.jupyter.widget-view+json": {
       "model_id": "79e8513f17854efa93a83eb2e7c3078b",
       "version_major": 2,
       "version_minor": 0
      },
      "text/plain": [
       "HBox(children=(IntProgress(value=0, max=16), HTML(value='')))"
      ]
     },
     "metadata": {},
     "output_type": "display_data"
    },
    {
     "name": "stdout",
     "output_type": "stream",
     "text": [
      "Processing:  Environment\n",
      "Files: 14\n"
     ]
    },
    {
     "data": {
      "application/vnd.jupyter.widget-view+json": {
       "model_id": "5eb5fcadd63a45fea95d3d3ec2cfcd50",
       "version_major": 2,
       "version_minor": 0
      },
      "text/plain": [
       "HBox(children=(IntProgress(value=0, max=14), HTML(value='')))"
      ]
     },
     "metadata": {},
     "output_type": "display_data"
    },
    {
     "name": "stdout",
     "output_type": "stream",
     "text": [
      "Processing:  Banking\n",
      "Files: 65\n"
     ]
    },
    {
     "data": {
      "application/vnd.jupyter.widget-view+json": {
       "model_id": "e598b02da73242fb9ced41b227118432",
       "version_major": 2,
       "version_minor": 0
      },
      "text/plain": [
       "HBox(children=(IntProgress(value=0, max=65), HTML(value='')))"
      ]
     },
     "metadata": {},
     "output_type": "display_data"
    },
    {
     "name": "stdout",
     "output_type": "stream",
     "text": [
      "Processing:  Telecommunications\n",
      "Files: 79\n"
     ]
    },
    {
     "data": {
      "application/vnd.jupyter.widget-view+json": {
       "model_id": "9f615679892f4d52aaac5dd7c883a7b2",
       "version_major": 2,
       "version_minor": 0
      },
      "text/plain": [
       "HBox(children=(IntProgress(value=0, max=79), HTML(value='')))"
      ]
     },
     "metadata": {},
     "output_type": "display_data"
    },
    {
     "name": "stdout",
     "output_type": "stream",
     "text": [
      "Processing:  Non-Profit\n",
      "Files: 178\n"
     ]
    },
    {
     "data": {
      "application/vnd.jupyter.widget-view+json": {
       "model_id": "a6ff523a87e1444db23c8b444c450310",
       "version_major": 2,
       "version_minor": 0
      },
      "text/plain": [
       "HBox(children=(IntProgress(value=0, max=178), HTML(value='')))"
      ]
     },
     "metadata": {},
     "output_type": "display_data"
    },
    {
     "name": "stdout",
     "output_type": "stream",
     "text": [
      "Processing:  Religion\n",
      "Files: 96\n"
     ]
    },
    {
     "data": {
      "application/vnd.jupyter.widget-view+json": {
       "model_id": "66ecc610fe1e4afeaec1fdfb8a85414b",
       "version_major": 2,
       "version_minor": 0
      },
      "text/plain": [
       "HBox(children=(IntProgress(value=0, max=96), HTML(value='')))"
      ]
     },
     "metadata": {},
     "output_type": "display_data"
    },
    {
     "name": "stdout",
     "output_type": "stream",
     "text": [
      "Processing:  Consulting\n",
      "Files: 118\n"
     ]
    },
    {
     "data": {
      "application/vnd.jupyter.widget-view+json": {
       "model_id": "1b06f4577b5d4d9b838cc2b32b810cc9",
       "version_major": 2,
       "version_minor": 0
      },
      "text/plain": [
       "HBox(children=(IntProgress(value=0, max=118), HTML(value='')))"
      ]
     },
     "metadata": {},
     "output_type": "display_data"
    },
    {
     "name": "stdout",
     "output_type": "stream",
     "text": [
      "Processing:  Advertising\n",
      "Files: 70\n"
     ]
    },
    {
     "data": {
      "application/vnd.jupyter.widget-view+json": {
       "model_id": "19ed849537ea4e52b80e9070508b5bf1",
       "version_major": 2,
       "version_minor": 0
      },
      "text/plain": [
       "HBox(children=(IntProgress(value=0, max=70), HTML(value='')))"
      ]
     },
     "metadata": {},
     "output_type": "display_data"
    },
    {
     "name": "stdout",
     "output_type": "stream",
     "text": [
      "Processing:  Internet\n",
      "Files: 296\n"
     ]
    },
    {
     "data": {
      "application/vnd.jupyter.widget-view+json": {
       "model_id": "bfe312787f2f465386c844fcde857ea0",
       "version_major": 2,
       "version_minor": 0
      },
      "text/plain": [
       "HBox(children=(IntProgress(value=0, max=296), HTML(value='')))"
      ]
     },
     "metadata": {},
     "output_type": "display_data"
    },
    {
     "name": "stdout",
     "output_type": "stream",
     "text": [
      "Processing:  Construction\n",
      "Files: 33\n"
     ]
    },
    {
     "data": {
      "application/vnd.jupyter.widget-view+json": {
       "model_id": "f99e8023c89e438a9e7545140e8b248b",
       "version_major": 2,
       "version_minor": 0
      },
      "text/plain": [
       "HBox(children=(IntProgress(value=0, max=33), HTML(value='')))"
      ]
     },
     "metadata": {},
     "output_type": "display_data"
    },
    {
     "name": "stdout",
     "output_type": "stream",
     "text": [
      "Processing:  Technology\n",
      "Files: 763\n"
     ]
    },
    {
     "data": {
      "application/vnd.jupyter.widget-view+json": {
       "model_id": "84659ef946eb4c5699aec35b3b1ffd98",
       "version_major": 2,
       "version_minor": 0
      },
      "text/plain": [
       "HBox(children=(IntProgress(value=0, max=763), HTML(value='')))"
      ]
     },
     "metadata": {},
     "output_type": "display_data"
    },
    {
     "name": "stdout",
     "output_type": "stream",
     "text": [
      "Processing:  Education\n",
      "Files: 410\n"
     ]
    },
    {
     "data": {
      "application/vnd.jupyter.widget-view+json": {
       "model_id": "4b322d6ae9a44f3ebf577314eab70968",
       "version_major": 2,
       "version_minor": 0
      },
      "text/plain": [
       "HBox(children=(IntProgress(value=0, max=410), HTML(value='')))"
      ]
     },
     "metadata": {},
     "output_type": "display_data"
    },
    {
     "name": "stdout",
     "output_type": "stream",
     "text": [
      "Processing:  InvestmentBanking\n",
      "Files: 23\n"
     ]
    },
    {
     "data": {
      "application/vnd.jupyter.widget-view+json": {
       "model_id": "c28abce7caf2450aa2a765134358c24f",
       "version_major": 2,
       "version_minor": 0
      },
      "text/plain": [
       "HBox(children=(IntProgress(value=0, max=23), HTML(value='')))"
      ]
     },
     "metadata": {},
     "output_type": "display_data"
    },
    {
     "name": "stdout",
     "output_type": "stream",
     "text": [
      "Processing:  Marketing\n",
      "Files: 73\n"
     ]
    },
    {
     "data": {
      "application/vnd.jupyter.widget-view+json": {
       "model_id": "834fff36d98e4a44ad0839daddb031a3",
       "version_major": 2,
       "version_minor": 0
      },
      "text/plain": [
       "HBox(children=(IntProgress(value=0, max=73), HTML(value='')))"
      ]
     },
     "metadata": {},
     "output_type": "display_data"
    },
    {
     "name": "stdout",
     "output_type": "stream",
     "text": [
      "Processing:  Transportation\n",
      "Files: 56\n"
     ]
    },
    {
     "data": {
      "application/vnd.jupyter.widget-view+json": {
       "model_id": "f83b9966d72741e9821a21f5d1b827fd",
       "version_major": 2,
       "version_minor": 0
      },
      "text/plain": [
       "HBox(children=(IntProgress(value=0, max=56), HTML(value='')))"
      ]
     },
     "metadata": {},
     "output_type": "display_data"
    },
    {
     "name": "stdout",
     "output_type": "stream",
     "text": [
      "Processing:  Biotech\n",
      "Files: 37\n"
     ]
    },
    {
     "data": {
      "application/vnd.jupyter.widget-view+json": {
       "model_id": "05b06b22e49c4b3b9e8e3de798f39e64",
       "version_major": 2,
       "version_minor": 0
      },
      "text/plain": [
       "HBox(children=(IntProgress(value=0, max=37), HTML(value='')))"
      ]
     },
     "metadata": {},
     "output_type": "display_data"
    },
    {
     "name": "stdout",
     "output_type": "stream",
     "text": [
      "Processing:  Fashion\n",
      "Files: 25\n"
     ]
    },
    {
     "data": {
      "application/vnd.jupyter.widget-view+json": {
       "model_id": "b6c44f4de245498e88ef825e3d4d9d07",
       "version_major": 2,
       "version_minor": 0
      },
      "text/plain": [
       "HBox(children=(IntProgress(value=0, max=25), HTML(value='')))"
      ]
     },
     "metadata": {},
     "output_type": "display_data"
    },
    {
     "name": "stdout",
     "output_type": "stream",
     "text": [
      "Processing:  Government\n",
      "Files: 141\n"
     ]
    },
    {
     "data": {
      "application/vnd.jupyter.widget-view+json": {
       "model_id": "f3f9f55614114b7581f3e1c1dd82e366",
       "version_major": 2,
       "version_minor": 0
      },
      "text/plain": [
       "HBox(children=(IntProgress(value=0, max=141), HTML(value='')))"
      ]
     },
     "metadata": {},
     "output_type": "display_data"
    },
    {
     "name": "stdout",
     "output_type": "stream",
     "text": [
      "Processing:  BusinessServices\n",
      "Files: 82\n"
     ]
    },
    {
     "data": {
      "application/vnd.jupyter.widget-view+json": {
       "model_id": "1740d425080741c7b9af6d6799b7bece",
       "version_major": 2,
       "version_minor": 0
      },
      "text/plain": [
       "HBox(children=(IntProgress(value=0, max=82), HTML(value='')))"
      ]
     },
     "metadata": {},
     "output_type": "display_data"
    },
    {
     "name": "stdout",
     "output_type": "stream",
     "text": [
      "Processing:  Engineering\n",
      "Files: 242\n"
     ]
    },
    {
     "data": {
      "application/vnd.jupyter.widget-view+json": {
       "model_id": "c8d55e1f76154d95845e2a069dce325d",
       "version_major": 2,
       "version_minor": 0
      },
      "text/plain": [
       "HBox(children=(IntProgress(value=0, max=242), HTML(value='')))"
      ]
     },
     "metadata": {},
     "output_type": "display_data"
    },
    {
     "name": "stdout",
     "output_type": "stream",
     "text": [
      "Processing:  Law\n",
      "Files: 88\n"
     ]
    },
    {
     "data": {
      "application/vnd.jupyter.widget-view+json": {
       "model_id": "3fe1f77a972e458d8517e297d0324f0d",
       "version_major": 2,
       "version_minor": 0
      },
      "text/plain": [
       "HBox(children=(IntProgress(value=0, max=88), HTML(value='')))"
      ]
     },
     "metadata": {},
     "output_type": "display_data"
    },
    {
     "name": "stdout",
     "output_type": "stream",
     "text": [
      "Processing:  Automotive\n",
      "Files: 37\n"
     ]
    },
    {
     "data": {
      "application/vnd.jupyter.widget-view+json": {
       "model_id": "06f47fc6450d4bc091affcd58fbb5a86",
       "version_major": 2,
       "version_minor": 0
      },
      "text/plain": [
       "HBox(children=(IntProgress(value=0, max=37), HTML(value='')))"
      ]
     },
     "metadata": {},
     "output_type": "display_data"
    },
    {
     "name": "stdout",
     "output_type": "stream",
     "text": [
      "Processing:  Maritime\n",
      "Files: 13\n"
     ]
    },
    {
     "data": {
      "application/vnd.jupyter.widget-view+json": {
       "model_id": "d8fad8d313b041b39d5bfd45746af98e",
       "version_major": 2,
       "version_minor": 0
      },
      "text/plain": [
       "HBox(children=(IntProgress(value=0, max=13), HTML(value='')))"
      ]
     },
     "metadata": {},
     "output_type": "display_data"
    },
    {
     "name": "stdout",
     "output_type": "stream",
     "text": [
      "Processing:  Military\n",
      "Files: 84\n"
     ]
    },
    {
     "data": {
      "application/vnd.jupyter.widget-view+json": {
       "model_id": "b1de4e184ae944009fc459426d9b5330",
       "version_major": 2,
       "version_minor": 0
      },
      "text/plain": [
       "HBox(children=(IntProgress(value=0, max=84), HTML(value='')))"
      ]
     },
     "metadata": {},
     "output_type": "display_data"
    },
    {
     "name": "stdout",
     "output_type": "stream",
     "text": [
      "Processing:  Communications-Media\n",
      "Files: 270\n"
     ]
    },
    {
     "data": {
      "application/vnd.jupyter.widget-view+json": {
       "model_id": "aa92b99d9be342c9a3614a13dcd33e35",
       "version_major": 2,
       "version_minor": 0
      },
      "text/plain": [
       "HBox(children=(IntProgress(value=0, max=270), HTML(value='')))"
      ]
     },
     "metadata": {},
     "output_type": "display_data"
    }
   ],
   "source": [
    "#joint\n",
    "for gender in [0, 1]:\n",
    "    if gender == 0:\n",
    "        txtDir = './postprocess_blogs/blogs/female/'\n",
    "        outdir = './blogs-2000/female/'\n",
    "    else:\n",
    "        txtDir = './postprocess_blogs/blogs/male/'\n",
    "        outdir = './blogs-2000/male/'\n",
    "\n",
    "    if not op.exists(outdir):\n",
    "        os.makedirs(outdir)\n",
    "    print(\"Processing gender: {}\".format(txtDir))\n",
    "    blogs_gender = os.listdir(txtDir)\n",
    "    for i in tqdm(range(0, len(blogs_gender))):\n",
    "        m = blogs_gender[i]\n",
    "        handle = ''\n",
    "        print(\"Processing: \", m)\n",
    "        print(\"Files:\", len(os.listdir(txtDir + m)))\n",
    "        for file in tqdm(os.listdir(txtDir + m),leave=False):\n",
    "            name = txtDir + m + '/' + file\n",
    "            text = gettext(name)\n",
    "            handle = handle + ' ' + text\n",
    "        os.mkdir(op.join(outdir, m))\n",
    "        path = op.join(outdir, m, f'{m}.txt')\n",
    "        with open(path, 'w') as w:\n",
    "            w.write(handle)"
   ]
  },
  {
   "cell_type": "code",
   "execution_count": 17,
   "metadata": {
    "ExecuteTime": {
     "end_time": "2019-08-09T11:26:49.585267Z",
     "start_time": "2019-08-09T11:20:04.248804Z"
    },
    "code_folding": [
     0
    ]
   },
   "outputs": [
    {
     "name": "stdout",
     "output_type": "stream",
     "text": [
      "Processing gender: ./blogs-2000/female/\n"
     ]
    },
    {
     "data": {
      "application/vnd.jupyter.widget-view+json": {
       "model_id": "",
       "version_major": 2,
       "version_minor": 0
      },
      "text/plain": [
       "HBox(children=(IntProgress(value=0, max=40), HTML(value='')))"
      ]
     },
     "metadata": {},
     "output_type": "display_data"
    },
    {
     "name": "stdout",
     "output_type": "stream",
     "text": [
      "Processing:  Tourism\n"
     ]
    },
    {
     "data": {
      "application/vnd.jupyter.widget-view+json": {
       "model_id": "6504cc7dc5114218ace242228dc9bc1b",
       "version_major": 2,
       "version_minor": 0
      },
      "text/plain": [
       "HBox(children=(IntProgress(value=0, max=116), HTML(value='')))"
      ]
     },
     "metadata": {},
     "output_type": "display_data"
    },
    {
     "name": "stdout",
     "output_type": "stream",
     "text": [
      "Processing:  HumanResources\n"
     ]
    },
    {
     "data": {
      "application/vnd.jupyter.widget-view+json": {
       "model_id": "38abf0f9a27d46b2b33af7d2c99fe2c1",
       "version_major": 2,
       "version_minor": 0
      },
      "text/plain": [
       "HBox(children=(IntProgress(value=0, max=172), HTML(value='')))"
      ]
     },
     "metadata": {},
     "output_type": "display_data"
    },
    {
     "name": "stdout",
     "output_type": "stream",
     "text": [
      "Processing:  RealEstate\n"
     ]
    },
    {
     "data": {
      "application/vnd.jupyter.widget-view+json": {
       "model_id": "8c27245478594812a84e02cac5c2b469",
       "version_major": 2,
       "version_minor": 0
      },
      "text/plain": [
       "HBox(children=(IntProgress(value=0, max=111), HTML(value='')))"
      ]
     },
     "metadata": {},
     "output_type": "display_data"
    },
    {
     "name": "stdout",
     "output_type": "stream",
     "text": [
      "Processing:  Arts\n"
     ]
    },
    {
     "data": {
      "application/vnd.jupyter.widget-view+json": {
       "model_id": "053faf60117b46558e1f78222e8b1542",
       "version_major": 2,
       "version_minor": 0
      },
      "text/plain": [
       "HBox(children=(IntProgress(value=0, max=2019), HTML(value='')))"
      ]
     },
     "metadata": {},
     "output_type": "display_data"
    },
    {
     "name": "stdout",
     "output_type": "stream",
     "text": [
      "Processing:  Sports-Recreation\n"
     ]
    },
    {
     "data": {
      "application/vnd.jupyter.widget-view+json": {
       "model_id": "56b8e7d0fa8e43bf8d0017aee772659e",
       "version_major": 2,
       "version_minor": 0
      },
      "text/plain": [
       "HBox(children=(IntProgress(value=0, max=184), HTML(value='')))"
      ]
     },
     "metadata": {},
     "output_type": "display_data"
    },
    {
     "name": "stdout",
     "output_type": "stream",
     "text": [
      "Processing:  Student\n"
     ]
    },
    {
     "data": {
      "application/vnd.jupyter.widget-view+json": {
       "model_id": "fec7ffa3d4c5463280a30498952d6650",
       "version_major": 2,
       "version_minor": 0
      },
      "text/plain": [
       "HBox(children=(IntProgress(value=0, max=7340), HTML(value='')))"
      ]
     },
     "metadata": {},
     "output_type": "display_data"
    },
    {
     "name": "stdout",
     "output_type": "stream",
     "text": [
      "Processing:  Manufacturing\n"
     ]
    },
    {
     "data": {
      "application/vnd.jupyter.widget-view+json": {
       "model_id": "7497b6853f3b41dbb6c161327eb15ba1",
       "version_major": 2,
       "version_minor": 0
      },
      "text/plain": [
       "HBox(children=(IntProgress(value=0, max=79), HTML(value='')))"
      ]
     },
     "metadata": {},
     "output_type": "display_data"
    },
    {
     "name": "stdout",
     "output_type": "stream",
     "text": [
      "Processing:  Science\n"
     ]
    },
    {
     "data": {
      "application/vnd.jupyter.widget-view+json": {
       "model_id": "e87b9099bb87468ca6a5ea9ac02bf82a",
       "version_major": 2,
       "version_minor": 0
      },
      "text/plain": [
       "HBox(children=(IntProgress(value=0, max=348), HTML(value='')))"
      ]
     },
     "metadata": {},
     "output_type": "display_data"
    },
    {
     "name": "stdout",
     "output_type": "stream",
     "text": [
      "Processing:  LawEnforcement-Security\n"
     ]
    },
    {
     "data": {
      "application/vnd.jupyter.widget-view+json": {
       "model_id": "f3438aefd60948e8843dc8cdd4a30c05",
       "version_major": 2,
       "version_minor": 0
      },
      "text/plain": [
       "HBox(children=(IntProgress(value=0, max=77), HTML(value='')))"
      ]
     },
     "metadata": {},
     "output_type": "display_data"
    },
    {
     "name": "stdout",
     "output_type": "stream",
     "text": [
      "Processing:  Architecture\n"
     ]
    },
    {
     "data": {
      "application/vnd.jupyter.widget-view+json": {
       "model_id": "6ec6060315464a6e9a410b662dbb81ce",
       "version_major": 2,
       "version_minor": 0
      },
      "text/plain": [
       "HBox(children=(IntProgress(value=0, max=66), HTML(value='')))"
      ]
     },
     "metadata": {},
     "output_type": "display_data"
    },
    {
     "name": "stdout",
     "output_type": "stream",
     "text": [
      "Processing:  Accounting\n"
     ]
    },
    {
     "data": {
      "application/vnd.jupyter.widget-view+json": {
       "model_id": "c3fc5a140d5844b6adb763f97646f9b3",
       "version_major": 2,
       "version_minor": 0
      },
      "text/plain": [
       "HBox(children=(IntProgress(value=0, max=400), HTML(value='')))"
      ]
     },
     "metadata": {},
     "output_type": "display_data"
    },
    {
     "name": "stdout",
     "output_type": "stream",
     "text": [
      "Processing:  Chemicals\n"
     ]
    },
    {
     "data": {
      "application/vnd.jupyter.widget-view+json": {
       "model_id": "c3fdc770f65a42c89dae252017f74585",
       "version_major": 2,
       "version_minor": 0
      },
      "text/plain": [
       "HBox(children=(IntProgress(value=0, max=60), HTML(value='')))"
      ]
     },
     "metadata": {},
     "output_type": "display_data"
    },
    {
     "name": "stdout",
     "output_type": "stream",
     "text": [
      "Processing:  Museums-Libraries\n"
     ]
    },
    {
     "data": {
      "application/vnd.jupyter.widget-view+json": {
       "model_id": "db9bb0680f364e26b653e135b36072b9",
       "version_major": 2,
       "version_minor": 0
      },
      "text/plain": [
       "HBox(children=(IntProgress(value=0, max=237), HTML(value='')))"
      ]
     },
     "metadata": {},
     "output_type": "display_data"
    },
    {
     "name": "stdout",
     "output_type": "stream",
     "text": [
      "Processing:  Publishing\n"
     ]
    },
    {
     "data": {
      "application/vnd.jupyter.widget-view+json": {
       "model_id": "cb88cedfd9e144fc862872383a564b38",
       "version_major": 2,
       "version_minor": 0
      },
      "text/plain": [
       "HBox(children=(IntProgress(value=0, max=457), HTML(value='')))"
      ]
     },
     "metadata": {},
     "output_type": "display_data"
    },
    {
     "name": "stdout",
     "output_type": "stream",
     "text": [
      "Processing:  indUnk\n"
     ]
    },
    {
     "data": {
      "application/vnd.jupyter.widget-view+json": {
       "model_id": "3dc53382325549bb8f02f12a097f74af",
       "version_major": 2,
       "version_minor": 0
      },
      "text/plain": [
       "HBox(children=(IntProgress(value=0, max=14311), HTML(value='')))"
      ]
     },
     "metadata": {},
     "output_type": "display_data"
    },
    {
     "name": "stdout",
     "output_type": "stream",
     "text": [
      "Processing:  Agriculture\n"
     ]
    },
    {
     "data": {
      "application/vnd.jupyter.widget-view+json": {
       "model_id": "c225222cba1a4c388d5458ba15b2a0c8",
       "version_major": 2,
       "version_minor": 0
      },
      "text/plain": [
       "HBox(children=(IntProgress(value=0, max=69), HTML(value='')))"
      ]
     },
     "metadata": {},
     "output_type": "display_data"
    },
    {
     "name": "stdout",
     "output_type": "stream",
     "text": [
      "Processing:  Environment\n"
     ]
    },
    {
     "data": {
      "application/vnd.jupyter.widget-view+json": {
       "model_id": "3f56cdf70192424696afda402f8adfbf",
       "version_major": 2,
       "version_minor": 0
      },
      "text/plain": [
       "HBox(children=(IntProgress(value=0, max=24), HTML(value='')))"
      ]
     },
     "metadata": {},
     "output_type": "display_data"
    },
    {
     "name": "stdout",
     "output_type": "stream",
     "text": [
      "Processing:  Banking\n"
     ]
    },
    {
     "data": {
      "application/vnd.jupyter.widget-view+json": {
       "model_id": "554d2234bf304588976181325f2936c3",
       "version_major": 2,
       "version_minor": 0
      },
      "text/plain": [
       "HBox(children=(IntProgress(value=0, max=195), HTML(value='')))"
      ]
     },
     "metadata": {},
     "output_type": "display_data"
    },
    {
     "name": "stdout",
     "output_type": "stream",
     "text": [
      "Processing:  Telecommunications\n"
     ]
    },
    {
     "data": {
      "application/vnd.jupyter.widget-view+json": {
       "model_id": "4f6edd19a48e4557b7ed7d84986cf746",
       "version_major": 2,
       "version_minor": 0
      },
      "text/plain": [
       "HBox(children=(IntProgress(value=0, max=190), HTML(value='')))"
      ]
     },
     "metadata": {},
     "output_type": "display_data"
    },
    {
     "name": "stdout",
     "output_type": "stream",
     "text": [
      "Processing:  Non-Profit\n"
     ]
    },
    {
     "data": {
      "application/vnd.jupyter.widget-view+json": {
       "model_id": "e3847bd369cb4c28829b23614915ce76",
       "version_major": 2,
       "version_minor": 0
      },
      "text/plain": [
       "HBox(children=(IntProgress(value=0, max=735), HTML(value='')))"
      ]
     },
     "metadata": {},
     "output_type": "display_data"
    },
    {
     "name": "stdout",
     "output_type": "stream",
     "text": [
      "Processing:  Religion\n"
     ]
    },
    {
     "data": {
      "application/vnd.jupyter.widget-view+json": {
       "model_id": "c0ac1d5e4a1c499ea060e128c987c176",
       "version_major": 2,
       "version_minor": 0
      },
      "text/plain": [
       "HBox(children=(IntProgress(value=0, max=216), HTML(value='')))"
      ]
     },
     "metadata": {},
     "output_type": "display_data"
    },
    {
     "name": "stdout",
     "output_type": "stream",
     "text": [
      "Processing:  Consulting\n"
     ]
    },
    {
     "data": {
      "application/vnd.jupyter.widget-view+json": {
       "model_id": "f01d5ea5c855439082ee171b9f5c686b",
       "version_major": 2,
       "version_minor": 0
      },
      "text/plain": [
       "HBox(children=(IntProgress(value=0, max=305), HTML(value='')))"
      ]
     },
     "metadata": {},
     "output_type": "display_data"
    },
    {
     "name": "stdout",
     "output_type": "stream",
     "text": [
      "Processing:  Advertising\n"
     ]
    },
    {
     "data": {
      "application/vnd.jupyter.widget-view+json": {
       "model_id": "d31a1da306254cddbc6a807243c0cda8",
       "version_major": 2,
       "version_minor": 0
      },
      "text/plain": [
       "HBox(children=(IntProgress(value=0, max=226), HTML(value='')))"
      ]
     },
     "metadata": {},
     "output_type": "display_data"
    },
    {
     "name": "stdout",
     "output_type": "stream",
     "text": [
      "Processing:  Internet\n"
     ]
    },
    {
     "data": {
      "application/vnd.jupyter.widget-view+json": {
       "model_id": "f17abf53a8444621a9931a4aa5cee9e1",
       "version_major": 2,
       "version_minor": 0
      },
      "text/plain": [
       "HBox(children=(IntProgress(value=0, max=494), HTML(value='')))"
      ]
     },
     "metadata": {},
     "output_type": "display_data"
    },
    {
     "name": "stdout",
     "output_type": "stream",
     "text": [
      "Processing:  Construction\n"
     ]
    },
    {
     "data": {
      "application/vnd.jupyter.widget-view+json": {
       "model_id": "fab850a52c804209b9e14e16f5c7b205",
       "version_major": 2,
       "version_minor": 0
      },
      "text/plain": [
       "HBox(children=(IntProgress(value=0, max=55), HTML(value='')))"
      ]
     },
     "metadata": {},
     "output_type": "display_data"
    },
    {
     "name": "stdout",
     "output_type": "stream",
     "text": [
      "Processing:  Technology\n"
     ]
    },
    {
     "data": {
      "application/vnd.jupyter.widget-view+json": {
       "model_id": "5a6b138ece8b4ef2a47189ec3f474f43",
       "version_major": 2,
       "version_minor": 0
      },
      "text/plain": [
       "HBox(children=(IntProgress(value=0, max=696), HTML(value='')))"
      ]
     },
     "metadata": {},
     "output_type": "display_data"
    },
    {
     "name": "stdout",
     "output_type": "stream",
     "text": [
      "Processing:  Education\n"
     ]
    },
    {
     "data": {
      "application/vnd.jupyter.widget-view+json": {
       "model_id": "739af264b1774890bc2e64fbc5822818",
       "version_major": 2,
       "version_minor": 0
      },
      "text/plain": [
       "HBox(children=(IntProgress(value=0, max=1916), HTML(value='')))"
      ]
     },
     "metadata": {},
     "output_type": "display_data"
    },
    {
     "name": "stdout",
     "output_type": "stream",
     "text": [
      "Processing:  InvestmentBanking\n"
     ]
    },
    {
     "data": {
      "application/vnd.jupyter.widget-view+json": {
       "model_id": "977af4aa720541bcbb66d598a73bac65",
       "version_major": 2,
       "version_minor": 0
      },
      "text/plain": [
       "HBox(children=(IntProgress(value=0, max=46), HTML(value='')))"
      ]
     },
     "metadata": {},
     "output_type": "display_data"
    },
    {
     "name": "stdout",
     "output_type": "stream",
     "text": [
      "Processing:  Marketing\n"
     ]
    },
    {
     "data": {
      "application/vnd.jupyter.widget-view+json": {
       "model_id": "b774fb0b795545f180b6fffb3060fd07",
       "version_major": 2,
       "version_minor": 0
      },
      "text/plain": [
       "HBox(children=(IntProgress(value=0, max=309), HTML(value='')))"
      ]
     },
     "metadata": {},
     "output_type": "display_data"
    },
    {
     "name": "stdout",
     "output_type": "stream",
     "text": [
      "Processing:  Transportation\n"
     ]
    },
    {
     "data": {
      "application/vnd.jupyter.widget-view+json": {
       "model_id": "7154dd5d7a9549d79360b5f119fb1ecf",
       "version_major": 2,
       "version_minor": 0
      },
      "text/plain": [
       "HBox(children=(IntProgress(value=0, max=97), HTML(value='')))"
      ]
     },
     "metadata": {},
     "output_type": "display_data"
    },
    {
     "name": "stdout",
     "output_type": "stream",
     "text": [
      "Processing:  Biotech\n"
     ]
    },
    {
     "data": {
      "application/vnd.jupyter.widget-view+json": {
       "model_id": "0672115c777a4a70a9dca7052815382d",
       "version_major": 2,
       "version_minor": 0
      },
      "text/plain": [
       "HBox(children=(IntProgress(value=0, max=87), HTML(value='')))"
      ]
     },
     "metadata": {},
     "output_type": "display_data"
    },
    {
     "name": "stdout",
     "output_type": "stream",
     "text": [
      "Processing:  Fashion\n"
     ]
    },
    {
     "data": {
      "application/vnd.jupyter.widget-view+json": {
       "model_id": "86dedf1d2be54440939383febd393c36",
       "version_major": 2,
       "version_minor": 0
      },
      "text/plain": [
       "HBox(children=(IntProgress(value=0, max=236), HTML(value='')))"
      ]
     },
     "metadata": {},
     "output_type": "display_data"
    },
    {
     "name": "stdout",
     "output_type": "stream",
     "text": [
      "Processing:  Government\n"
     ]
    },
    {
     "data": {
      "application/vnd.jupyter.widget-view+json": {
       "model_id": "d957c1bd395d4713b76d9fb43b418e38",
       "version_major": 2,
       "version_minor": 0
      },
      "text/plain": [
       "HBox(children=(IntProgress(value=0, max=201), HTML(value='')))"
      ]
     },
     "metadata": {},
     "output_type": "display_data"
    },
    {
     "name": "stdout",
     "output_type": "stream",
     "text": [
      "Processing:  BusinessServices\n"
     ]
    },
    {
     "data": {
      "application/vnd.jupyter.widget-view+json": {
       "model_id": "c543f0e359b643f381f25e5489eeacc1",
       "version_major": 2,
       "version_minor": 0
      },
      "text/plain": [
       "HBox(children=(IntProgress(value=0, max=281), HTML(value='')))"
      ]
     },
     "metadata": {},
     "output_type": "display_data"
    },
    {
     "name": "stdout",
     "output_type": "stream",
     "text": [
      "Processing:  Engineering\n"
     ]
    },
    {
     "data": {
      "application/vnd.jupyter.widget-view+json": {
       "model_id": "4630f6fc122f4da78838114699d2c041",
       "version_major": 2,
       "version_minor": 0
      },
      "text/plain": [
       "HBox(children=(IntProgress(value=0, max=475), HTML(value='')))"
      ]
     },
     "metadata": {},
     "output_type": "display_data"
    },
    {
     "name": "stdout",
     "output_type": "stream",
     "text": [
      "Processing:  Law\n"
     ]
    },
    {
     "data": {
      "application/vnd.jupyter.widget-view+json": {
       "model_id": "54e661a9453a4ff89a9edfcbd0b2a582",
       "version_major": 2,
       "version_minor": 0
      },
      "text/plain": [
       "HBox(children=(IntProgress(value=0, max=446), HTML(value='')))"
      ]
     },
     "metadata": {},
     "output_type": "display_data"
    },
    {
     "name": "stdout",
     "output_type": "stream",
     "text": [
      "Processing:  Automotive\n"
     ]
    },
    {
     "data": {
      "application/vnd.jupyter.widget-view+json": {
       "model_id": "7533c59bdc1f4a36b0dc106aabf52463",
       "version_major": 2,
       "version_minor": 0
      },
      "text/plain": [
       "HBox(children=(IntProgress(value=0, max=21), HTML(value='')))"
      ]
     },
     "metadata": {},
     "output_type": "display_data"
    },
    {
     "name": "stdout",
     "output_type": "stream",
     "text": [
      "Processing:  Maritime\n"
     ]
    },
    {
     "data": {
      "application/vnd.jupyter.widget-view+json": {
       "model_id": "1a65587cda8c4b14bdb2a62f19286c22",
       "version_major": 2,
       "version_minor": 0
      },
      "text/plain": [
       "HBox(children=(IntProgress(value=0, max=6), HTML(value='')))"
      ]
     },
     "metadata": {},
     "output_type": "display_data"
    },
    {
     "name": "stdout",
     "output_type": "stream",
     "text": [
      "Processing:  Military\n"
     ]
    },
    {
     "data": {
      "application/vnd.jupyter.widget-view+json": {
       "model_id": "e2c8d3ca145148ddbf875eb51776b2b4",
       "version_major": 2,
       "version_minor": 0
      },
      "text/plain": [
       "HBox(children=(IntProgress(value=0, max=111), HTML(value='')))"
      ]
     },
     "metadata": {},
     "output_type": "display_data"
    },
    {
     "name": "stdout",
     "output_type": "stream",
     "text": [
      "Processing:  Communications-Media\n"
     ]
    },
    {
     "data": {
      "application/vnd.jupyter.widget-view+json": {
       "model_id": "69224abfd0ba4f37bbf5fe9add2a0a38",
       "version_major": 2,
       "version_minor": 0
      },
      "text/plain": [
       "HBox(children=(IntProgress(value=0, max=766), HTML(value='')))"
      ]
     },
     "metadata": {},
     "output_type": "display_data"
    },
    {
     "name": "stdout",
     "output_type": "stream",
     "text": [
      "Processing gender: ./blogs-2000/male/\n"
     ]
    },
    {
     "data": {
      "application/vnd.jupyter.widget-view+json": {
       "model_id": "",
       "version_major": 2,
       "version_minor": 0
      },
      "text/plain": [
       "HBox(children=(IntProgress(value=0, max=40), HTML(value='')))"
      ]
     },
     "metadata": {},
     "output_type": "display_data"
    },
    {
     "name": "stdout",
     "output_type": "stream",
     "text": [
      "Processing:  Tourism\n"
     ]
    },
    {
     "data": {
      "application/vnd.jupyter.widget-view+json": {
       "model_id": "5bca5499ccef435ba9c6df2c5f8defa4",
       "version_major": 2,
       "version_minor": 0
      },
      "text/plain": [
       "HBox(children=(IntProgress(value=0, max=119), HTML(value='')))"
      ]
     },
     "metadata": {},
     "output_type": "display_data"
    },
    {
     "name": "stdout",
     "output_type": "stream",
     "text": [
      "Processing:  HumanResources\n"
     ]
    },
    {
     "data": {
      "application/vnd.jupyter.widget-view+json": {
       "model_id": "e40129dffb7343fba2bc619ad8fdb38b",
       "version_major": 2,
       "version_minor": 0
      },
      "text/plain": [
       "HBox(children=(IntProgress(value=0, max=102), HTML(value='')))"
      ]
     },
     "metadata": {},
     "output_type": "display_data"
    },
    {
     "name": "stdout",
     "output_type": "stream",
     "text": [
      "Processing:  RealEstate\n"
     ]
    },
    {
     "data": {
      "application/vnd.jupyter.widget-view+json": {
       "model_id": "ab61561de902442299a0a5c7f42e76c3",
       "version_major": 2,
       "version_minor": 0
      },
      "text/plain": [
       "HBox(children=(IntProgress(value=0, max=240), HTML(value='')))"
      ]
     },
     "metadata": {},
     "output_type": "display_data"
    },
    {
     "name": "stdout",
     "output_type": "stream",
     "text": [
      "Processing:  Arts\n"
     ]
    },
    {
     "data": {
      "application/vnd.jupyter.widget-view+json": {
       "model_id": "0633085c60b143dd89a37cc4e55a3abe",
       "version_major": 2,
       "version_minor": 0
      },
      "text/plain": [
       "HBox(children=(IntProgress(value=0, max=1452), HTML(value='')))"
      ]
     },
     "metadata": {},
     "output_type": "display_data"
    },
    {
     "name": "stdout",
     "output_type": "stream",
     "text": [
      "Processing:  Sports-Recreation\n"
     ]
    },
    {
     "data": {
      "application/vnd.jupyter.widget-view+json": {
       "model_id": "f46c599cea664a94aa92f1b564a33499",
       "version_major": 2,
       "version_minor": 0
      },
      "text/plain": [
       "HBox(children=(IntProgress(value=0, max=189), HTML(value='')))"
      ]
     },
     "metadata": {},
     "output_type": "display_data"
    },
    {
     "name": "stdout",
     "output_type": "stream",
     "text": [
      "Processing:  Student\n"
     ]
    },
    {
     "data": {
      "application/vnd.jupyter.widget-view+json": {
       "model_id": "6a9001768349483c8f50e53d0abfa87a",
       "version_major": 2,
       "version_minor": 0
      },
      "text/plain": [
       "HBox(children=(IntProgress(value=0, max=7665), HTML(value='')))"
      ]
     },
     "metadata": {},
     "output_type": "display_data"
    },
    {
     "name": "stdout",
     "output_type": "stream",
     "text": [
      "Processing:  Manufacturing\n"
     ]
    },
    {
     "data": {
      "application/vnd.jupyter.widget-view+json": {
       "model_id": "3229e4bffa034e9da040635af93f72ea",
       "version_major": 2,
       "version_minor": 0
      },
      "text/plain": [
       "HBox(children=(IntProgress(value=0, max=200), HTML(value='')))"
      ]
     },
     "metadata": {},
     "output_type": "display_data"
    },
    {
     "name": "stdout",
     "output_type": "stream",
     "text": [
      "Processing:  Science\n"
     ]
    },
    {
     "data": {
      "application/vnd.jupyter.widget-view+json": {
       "model_id": "83dd9791a9224848950ed7c12abed9b8",
       "version_major": 2,
       "version_minor": 0
      },
      "text/plain": [
       "HBox(children=(IntProgress(value=0, max=395), HTML(value='')))"
      ]
     },
     "metadata": {},
     "output_type": "display_data"
    },
    {
     "name": "stdout",
     "output_type": "stream",
     "text": [
      "Processing:  LawEnforcement-Security\n"
     ]
    },
    {
     "data": {
      "application/vnd.jupyter.widget-view+json": {
       "model_id": "f7d92ee5897a43748e099a16f8e9de16",
       "version_major": 2,
       "version_minor": 0
      },
      "text/plain": [
       "HBox(children=(IntProgress(value=0, max=119), HTML(value='')))"
      ]
     },
     "metadata": {},
     "output_type": "display_data"
    },
    {
     "name": "stdout",
     "output_type": "stream",
     "text": [
      "Processing:  Architecture\n"
     ]
    },
    {
     "data": {
      "application/vnd.jupyter.widget-view+json": {
       "model_id": "2466b9ba6cef469aaa9d0f71908adeae",
       "version_major": 2,
       "version_minor": 0
      },
      "text/plain": [
       "HBox(children=(IntProgress(value=0, max=60), HTML(value='')))"
      ]
     },
     "metadata": {},
     "output_type": "display_data"
    },
    {
     "name": "stdout",
     "output_type": "stream",
     "text": [
      "Processing:  Accounting\n"
     ]
    },
    {
     "data": {
      "application/vnd.jupyter.widget-view+json": {
       "model_id": "8556aa1f97f94ef38ab1b56a03e78a97",
       "version_major": 2,
       "version_minor": 0
      },
      "text/plain": [
       "HBox(children=(IntProgress(value=0, max=59), HTML(value='')))"
      ]
     },
     "metadata": {},
     "output_type": "display_data"
    },
    {
     "name": "stdout",
     "output_type": "stream",
     "text": [
      "Processing:  Chemicals\n"
     ]
    },
    {
     "data": {
      "application/vnd.jupyter.widget-view+json": {
       "model_id": "cdbe8d6928be407fa18ffbeb16e5edb0",
       "version_major": 2,
       "version_minor": 0
      },
      "text/plain": [
       "HBox(children=(IntProgress(value=0, max=168), HTML(value='')))"
      ]
     },
     "metadata": {},
     "output_type": "display_data"
    },
    {
     "name": "stdout",
     "output_type": "stream",
     "text": [
      "Processing:  Museums-Libraries\n"
     ]
    },
    {
     "data": {
      "application/vnd.jupyter.widget-view+json": {
       "model_id": "ec1755733ddc49a3b351c69e50135bbd",
       "version_major": 2,
       "version_minor": 0
      },
      "text/plain": [
       "HBox(children=(IntProgress(value=0, max=52), HTML(value='')))"
      ]
     },
     "metadata": {},
     "output_type": "display_data"
    },
    {
     "name": "stdout",
     "output_type": "stream",
     "text": [
      "Processing:  Publishing\n"
     ]
    },
    {
     "data": {
      "application/vnd.jupyter.widget-view+json": {
       "model_id": "89ab8f88494f441f815b787fc168244a",
       "version_major": 2,
       "version_minor": 0
      },
      "text/plain": [
       "HBox(children=(IntProgress(value=0, max=607), HTML(value='')))"
      ]
     },
     "metadata": {},
     "output_type": "display_data"
    },
    {
     "name": "stdout",
     "output_type": "stream",
     "text": [
      "Processing:  indUnk\n"
     ]
    },
    {
     "data": {
      "application/vnd.jupyter.widget-view+json": {
       "model_id": "970d45ceb85d4c318b287af069d73505",
       "version_major": 2,
       "version_minor": 0
      },
      "text/plain": [
       "HBox(children=(IntProgress(value=0, max=9819), HTML(value='')))"
      ]
     },
     "metadata": {},
     "output_type": "display_data"
    },
    {
     "name": "stdout",
     "output_type": "stream",
     "text": [
      "Processing:  Agriculture\n"
     ]
    },
    {
     "data": {
      "application/vnd.jupyter.widget-view+json": {
       "model_id": "c60d1c2213154be6a89d8aa2e5dc87c8",
       "version_major": 2,
       "version_minor": 0
      },
      "text/plain": [
       "HBox(children=(IntProgress(value=0, max=40), HTML(value='')))"
      ]
     },
     "metadata": {},
     "output_type": "display_data"
    },
    {
     "name": "stdout",
     "output_type": "stream",
     "text": [
      "Processing:  Environment\n"
     ]
    },
    {
     "data": {
      "application/vnd.jupyter.widget-view+json": {
       "model_id": "6ae4eb39b6f24b088644fe5f510f5e76",
       "version_major": 2,
       "version_minor": 0
      },
      "text/plain": [
       "HBox(children=(IntProgress(value=0, max=34), HTML(value='')))"
      ]
     },
     "metadata": {},
     "output_type": "display_data"
    },
    {
     "name": "stdout",
     "output_type": "stream",
     "text": [
      "Processing:  Banking\n"
     ]
    },
    {
     "data": {
      "application/vnd.jupyter.widget-view+json": {
       "model_id": "de84780d369c43958f95bdd480df55cb",
       "version_major": 2,
       "version_minor": 0
      },
      "text/plain": [
       "HBox(children=(IntProgress(value=0, max=154), HTML(value='')))"
      ]
     },
     "metadata": {},
     "output_type": "display_data"
    },
    {
     "name": "stdout",
     "output_type": "stream",
     "text": [
      "Processing:  Telecommunications\n"
     ]
    },
    {
     "data": {
      "application/vnd.jupyter.widget-view+json": {
       "model_id": "ec4bcf60550f4ad69dcad154cfce699f",
       "version_major": 2,
       "version_minor": 0
      },
      "text/plain": [
       "HBox(children=(IntProgress(value=0, max=280), HTML(value='')))"
      ]
     },
     "metadata": {},
     "output_type": "display_data"
    },
    {
     "name": "stdout",
     "output_type": "stream",
     "text": [
      "Processing:  Non-Profit\n"
     ]
    },
    {
     "data": {
      "application/vnd.jupyter.widget-view+json": {
       "model_id": "3b9ecde9182b43c0ba95ea6a59b55787",
       "version_major": 2,
       "version_minor": 0
      },
      "text/plain": [
       "HBox(children=(IntProgress(value=0, max=730), HTML(value='')))"
      ]
     },
     "metadata": {},
     "output_type": "display_data"
    },
    {
     "name": "stdout",
     "output_type": "stream",
     "text": [
      "Processing:  Religion\n"
     ]
    },
    {
     "data": {
      "application/vnd.jupyter.widget-view+json": {
       "model_id": "d61cb084697142d59a01712909178e84",
       "version_major": 2,
       "version_minor": 0
      },
      "text/plain": [
       "HBox(children=(IntProgress(value=0, max=401), HTML(value='')))"
      ]
     },
     "metadata": {},
     "output_type": "display_data"
    },
    {
     "name": "stdout",
     "output_type": "stream",
     "text": [
      "Processing:  Consulting\n"
     ]
    },
    {
     "data": {
      "application/vnd.jupyter.widget-view+json": {
       "model_id": "c38ae0b6c3d54838b5f8ce8a0fde1795",
       "version_major": 2,
       "version_minor": 0
      },
      "text/plain": [
       "HBox(children=(IntProgress(value=0, max=353), HTML(value='')))"
      ]
     },
     "metadata": {},
     "output_type": "display_data"
    },
    {
     "name": "stdout",
     "output_type": "stream",
     "text": [
      "Processing:  Advertising\n"
     ]
    },
    {
     "data": {
      "application/vnd.jupyter.widget-view+json": {
       "model_id": "8017696a71cb48b6895e37c00bde284b",
       "version_major": 2,
       "version_minor": 0
      },
      "text/plain": [
       "HBox(children=(IntProgress(value=0, max=255), HTML(value='')))"
      ]
     },
     "metadata": {},
     "output_type": "display_data"
    },
    {
     "name": "stdout",
     "output_type": "stream",
     "text": [
      "Processing:  Internet\n"
     ]
    },
    {
     "data": {
      "application/vnd.jupyter.widget-view+json": {
       "model_id": "804823ffe44d47eab4e4fcfcc73395f1",
       "version_major": 2,
       "version_minor": 0
      },
      "text/plain": [
       "HBox(children=(IntProgress(value=0, max=976), HTML(value='')))"
      ]
     },
     "metadata": {},
     "output_type": "display_data"
    },
    {
     "name": "stdout",
     "output_type": "stream",
     "text": [
      "Processing:  Construction\n"
     ]
    },
    {
     "data": {
      "application/vnd.jupyter.widget-view+json": {
       "model_id": "a8f5c6cfdde34af58003b245c2091b5b",
       "version_major": 2,
       "version_minor": 0
      },
      "text/plain": [
       "HBox(children=(IntProgress(value=0, max=49), HTML(value='')))"
      ]
     },
     "metadata": {},
     "output_type": "display_data"
    },
    {
     "name": "stdout",
     "output_type": "stream",
     "text": [
      "Processing:  Technology\n"
     ]
    },
    {
     "data": {
      "application/vnd.jupyter.widget-view+json": {
       "model_id": "7808da9ecb6049a5b9726bd9dba164e2",
       "version_major": 2,
       "version_minor": 0
      },
      "text/plain": [
       "HBox(children=(IntProgress(value=0, max=2781), HTML(value='')))"
      ]
     },
     "metadata": {},
     "output_type": "display_data"
    },
    {
     "name": "stdout",
     "output_type": "stream",
     "text": [
      "Processing:  Education\n"
     ]
    },
    {
     "data": {
      "application/vnd.jupyter.widget-view+json": {
       "model_id": "149086ab53e2492f8c813dd7dd8e4028",
       "version_major": 2,
       "version_minor": 0
      },
      "text/plain": [
       "HBox(children=(IntProgress(value=0, max=1577), HTML(value='')))"
      ]
     },
     "metadata": {},
     "output_type": "display_data"
    },
    {
     "name": "stdout",
     "output_type": "stream",
     "text": [
      "Processing:  InvestmentBanking\n"
     ]
    },
    {
     "data": {
      "application/vnd.jupyter.widget-view+json": {
       "model_id": "bc3f9f593f644a3697fcc995fbcd3812",
       "version_major": 2,
       "version_minor": 0
      },
      "text/plain": [
       "HBox(children=(IntProgress(value=0, max=87), HTML(value='')))"
      ]
     },
     "metadata": {},
     "output_type": "display_data"
    },
    {
     "name": "stdout",
     "output_type": "stream",
     "text": [
      "Processing:  Marketing\n"
     ]
    },
    {
     "data": {
      "application/vnd.jupyter.widget-view+json": {
       "model_id": "42ac32239b024b3fb9bd7ee5445e936d",
       "version_major": 2,
       "version_minor": 0
      },
      "text/plain": [
       "HBox(children=(IntProgress(value=0, max=145), HTML(value='')))"
      ]
     },
     "metadata": {},
     "output_type": "display_data"
    },
    {
     "name": "stdout",
     "output_type": "stream",
     "text": [
      "Processing:  Transportation\n"
     ]
    },
    {
     "data": {
      "application/vnd.jupyter.widget-view+json": {
       "model_id": "cc462d876f1f4cae931b827b0040eed9",
       "version_major": 2,
       "version_minor": 0
      },
      "text/plain": [
       "HBox(children=(IntProgress(value=0, max=143), HTML(value='')))"
      ]
     },
     "metadata": {},
     "output_type": "display_data"
    },
    {
     "name": "stdout",
     "output_type": "stream",
     "text": [
      "Processing:  Biotech\n"
     ]
    },
    {
     "data": {
      "application/vnd.jupyter.widget-view+json": {
       "model_id": "86792e55f6564c5dad12f8804afe544c",
       "version_major": 2,
       "version_minor": 0
      },
      "text/plain": [
       "HBox(children=(IntProgress(value=0, max=104), HTML(value='')))"
      ]
     },
     "metadata": {},
     "output_type": "display_data"
    },
    {
     "name": "stdout",
     "output_type": "stream",
     "text": [
      "Processing:  Fashion\n"
     ]
    },
    {
     "data": {
      "application/vnd.jupyter.widget-view+json": {
       "model_id": "c3473feef6454bc1aa1b287f9b5fc713",
       "version_major": 2,
       "version_minor": 0
      },
      "text/plain": [
       "HBox(children=(IntProgress(value=0, max=188), HTML(value='')))"
      ]
     },
     "metadata": {},
     "output_type": "display_data"
    },
    {
     "name": "stdout",
     "output_type": "stream",
     "text": [
      "Processing:  Government\n"
     ]
    },
    {
     "data": {
      "application/vnd.jupyter.widget-view+json": {
       "model_id": "be429c1da20942b4bd02792ddd9b787e",
       "version_major": 2,
       "version_minor": 0
      },
      "text/plain": [
       "HBox(children=(IntProgress(value=0, max=476), HTML(value='')))"
      ]
     },
     "metadata": {},
     "output_type": "display_data"
    },
    {
     "name": "stdout",
     "output_type": "stream",
     "text": [
      "Processing:  BusinessServices\n"
     ]
    },
    {
     "data": {
      "application/vnd.jupyter.widget-view+json": {
       "model_id": "90bd91cb868a478b806d1c3af0544e34",
       "version_major": 2,
       "version_minor": 0
      },
      "text/plain": [
       "HBox(children=(IntProgress(value=0, max=249), HTML(value='')))"
      ]
     },
     "metadata": {},
     "output_type": "display_data"
    },
    {
     "name": "stdout",
     "output_type": "stream",
     "text": [
      "Processing:  Engineering\n"
     ]
    },
    {
     "data": {
      "application/vnd.jupyter.widget-view+json": {
       "model_id": "72850596cc4045cc9ad8c0b0d6dc153b",
       "version_major": 2,
       "version_minor": 0
      },
      "text/plain": [
       "HBox(children=(IntProgress(value=0, max=671), HTML(value='')))"
      ]
     },
     "metadata": {},
     "output_type": "display_data"
    },
    {
     "name": "stdout",
     "output_type": "stream",
     "text": [
      "Processing:  Law\n"
     ]
    },
    {
     "data": {
      "application/vnd.jupyter.widget-view+json": {
       "model_id": "08334f03226f468cbd1dae6399434546",
       "version_major": 2,
       "version_minor": 0
      },
      "text/plain": [
       "HBox(children=(IntProgress(value=0, max=470), HTML(value='')))"
      ]
     },
     "metadata": {},
     "output_type": "display_data"
    },
    {
     "name": "stdout",
     "output_type": "stream",
     "text": [
      "Processing:  Automotive\n"
     ]
    },
    {
     "data": {
      "application/vnd.jupyter.widget-view+json": {
       "model_id": "02ca0ece6fe54981b61596cf54e4e329",
       "version_major": 2,
       "version_minor": 0
      },
      "text/plain": [
       "HBox(children=(IntProgress(value=0), HTML(value='')))"
      ]
     },
     "metadata": {},
     "output_type": "display_data"
    },
    {
     "name": "stdout",
     "output_type": "stream",
     "text": [
      "Processing:  Maritime\n"
     ]
    },
    {
     "data": {
      "application/vnd.jupyter.widget-view+json": {
       "model_id": "261d98ab75e04f10ab029b9d5e65d738",
       "version_major": 2,
       "version_minor": 0
      },
      "text/plain": [
       "HBox(children=(IntProgress(value=0, max=34), HTML(value='')))"
      ]
     },
     "metadata": {},
     "output_type": "display_data"
    },
    {
     "name": "stdout",
     "output_type": "stream",
     "text": [
      "Processing:  Military\n"
     ]
    },
    {
     "data": {
      "application/vnd.jupyter.widget-view+json": {
       "model_id": "43456f47878f4888b24735e67b471b77",
       "version_major": 2,
       "version_minor": 0
      },
      "text/plain": [
       "HBox(children=(IntProgress(value=0, max=249), HTML(value='')))"
      ]
     },
     "metadata": {},
     "output_type": "display_data"
    },
    {
     "name": "stdout",
     "output_type": "stream",
     "text": [
      "Processing:  Communications-Media\n"
     ]
    },
    {
     "data": {
      "application/vnd.jupyter.widget-view+json": {
       "model_id": "a8b5c7fdeaf44029abdc8b24fe36fef0",
       "version_major": 2,
       "version_minor": 0
      },
      "text/plain": [
       "HBox(children=(IntProgress(value=0, max=1331), HTML(value='')))"
      ]
     },
     "metadata": {},
     "output_type": "display_data"
    }
   ],
   "source": [
    "#cut\n",
    "for gender in [0, 1]:\n",
    "    if gender == 0:\n",
    "        txtDir = './blogs-2000/female/'\n",
    "    else:\n",
    "        txtDir = './blogs-2000/male/'\n",
    "\n",
    "    print(\"Processing gender: {}\".format(txtDir))\n",
    "    blogs_gender = os.listdir(txtDir)\n",
    "    for i in tqdm(range(0, len(blogs_gender))):\n",
    "        m = blogs_gender[i]\n",
    "        print(\"Processing: \", m)\n",
    "        filepath = op.join(txtDir, m, f'{m}.txt')\n",
    "        text = gettext(filepath)\n",
    "        words = nltk.word_tokenize(text)\n",
    "        imax = len(words) // 2000\n",
    "        for i in tqdm(range(imax),leave=False):\n",
    "            handle = words[i * 2000:(i + 1) * 2000]\n",
    "            handle = ' '.join(handle)\n",
    "            savepath = op.join(txtDir, m, f'{m}_{i+1}.txt')\n",
    "            with open(savepath, 'w') as w:\n",
    "                w.write(handle)\n",
    "    "
   ]
  },
  {
   "cell_type": "markdown",
   "metadata": {},
   "source": [
    "### 2.2 Novels"
   ]
  },
  {
   "cell_type": "code",
   "execution_count": null,
   "metadata": {
    "code_folding": [
     0
    ]
   },
   "outputs": [],
   "source": [
    "#Word count and feature extract\n",
    "names = []\n",
    "F_features = []\n",
    "GRF_features = []\n",
    "WC_features = []\n",
    "labels = []\n",
    "lengths = []\n",
    "for gender in [0, 1]:\n",
    "    if gender == 0:\n",
    "        txtDir = './5000/female/'\n",
    "    else:\n",
    "        txtDir = './5000/male/'\n",
    "\n",
    "    print(\"Processing gender: {}\".format(txtDir))\n",
    "    handle_gender = os.listdir(txtDir)\n",
    "    print(\"Files:\", len(handle_gender))\n",
    "    for m in handle_gender:\n",
    "        name = txtDir + m\n",
    "        text = gettext(name)\n",
    "        words = nltk.word_tokenize(text)\n",
    "        tags = nltk.pos_tag(words)\n",
    "        words_l = wordlemmatize(tags)\n",
    "\n",
    "        length = len(words)\n",
    "        F_feature = F_measure(tags)\n",
    "        GRF_feature = Gender_Preferential_Features(words_l)\n",
    "        WC_feature = Word_Classes_Feature(words_l)\n",
    "\n",
    "        names.append(name)\n",
    "        lengths.append(length)\n",
    "        F_features.append(F_feature)\n",
    "        GRF_features.append(GRF_feature)\n",
    "        WC_features.append(WC_feature)\n",
    "        labels.append(gender)\n",
    "\n",
    "WC_features_l = []\n",
    "GRF_features_l = []\n",
    "\n",
    "for i in range(len(WC_features[0])):\n",
    "    n = i\n",
    "    WC_features_l.append(getsingle(WC_features, n))\n",
    "\n",
    "for i in range(len(GRF_features[0])):\n",
    "    n = i\n",
    "    GRF_features_l.append(getsingle(GRF_features, n))\n",
    "\n",
    "map1 = {\n",
    "    'name': names,\n",
    "    'label': labels,\n",
    "    'F_feature': F_features,\n",
    "    'word count': lengths\n",
    "}\n",
    "\n",
    "for i in range(len(WC_features[0])):\n",
    "    key = 'WC_' + str(i + 1)\n",
    "    value = WC_features_l[i]\n",
    "    map1[key] = value\n",
    "\n",
    "for i in range(len(GRF_features[0])):\n",
    "    key = 'GRF_' + str(i + 1)\n",
    "    value = GRF_features_l[i]\n",
    "    map1[key] = value\n",
    "\n",
    "allofall = pd.DataFrame(map1)\n",
    "\n",
    "F_features_u = np.array(F_features)\n",
    "F_features_u = (F_features_u - np.mean(F_features_u)) / np.std(F_features_u)\n",
    "allofall['F_feature'] = F_features_u\n",
    "\n",
    "allofall.to_csv('allofall_5000.csv', index=False)\n",
    "genderbias = pd.read_csv('5000_genderbias.csv')\n",
    "allofall['bias'], allofall['word ratio'] = genderbias['bias'], genderbias[\n",
    "    'word ratio']\n",
    "allofall.to_csv('5000_features.csv', index=False)"
   ]
  },
  {
   "cell_type": "code",
   "execution_count": null,
   "metadata": {},
   "outputs": [],
   "source": [
    "allofall['word count'].describe()"
   ]
  },
  {
   "cell_type": "code",
   "execution_count": 3,
   "metadata": {
    "ExecuteTime": {
     "end_time": "2019-08-03T07:48:41.347377Z",
     "start_time": "2019-08-03T05:14:42.733070Z"
    },
    "code_folding": [
     0
    ],
    "scrolled": true
   },
   "outputs": [
    {
     "name": "stderr",
     "output_type": "stream",
     "text": [
      "\r",
      "  0%|          | 0/2500 [00:00<?, ?it/s]"
     ]
    },
    {
     "name": "stdout",
     "output_type": "stream",
     "text": [
      "\n",
      "Present length:12000\n",
      "Processing gender: ./5000/female/\n",
      "Files: 2500\n"
     ]
    },
    {
     "name": "stderr",
     "output_type": "stream",
     "text": [
      "100%|██████████| 2500/2500 [19:42<00:00,  2.11it/s]\n",
      "  0%|          | 0/2500 [00:00<?, ?it/s]"
     ]
    },
    {
     "name": "stdout",
     "output_type": "stream",
     "text": [
      "Processing gender: ./5000/male/\n",
      "Files: 2500\n"
     ]
    },
    {
     "name": "stderr",
     "output_type": "stream",
     "text": [
      "100%|██████████| 2500/2500 [18:41<00:00,  2.66it/s]\n",
      "  0%|          | 0/2500 [00:00<?, ?it/s]"
     ]
    },
    {
     "name": "stdout",
     "output_type": "stream",
     "text": [
      "\n",
      "Present length:14000\n",
      "Processing gender: ./5000/female/\n",
      "Files: 2500\n"
     ]
    },
    {
     "name": "stderr",
     "output_type": "stream",
     "text": [
      "100%|██████████| 2500/2500 [19:27<00:00,  2.14it/s]\n",
      "  0%|          | 0/2500 [00:00<?, ?it/s]"
     ]
    },
    {
     "name": "stdout",
     "output_type": "stream",
     "text": [
      "Processing gender: ./5000/male/\n",
      "Files: 2500\n"
     ]
    },
    {
     "name": "stderr",
     "output_type": "stream",
     "text": [
      "100%|██████████| 2500/2500 [18:42<00:00,  2.64it/s]\n",
      "  0%|          | 0/2500 [00:00<?, ?it/s]"
     ]
    },
    {
     "name": "stdout",
     "output_type": "stream",
     "text": [
      "\n",
      "Present length:16000\n",
      "Processing gender: ./5000/female/\n",
      "Files: 2500\n"
     ]
    },
    {
     "name": "stderr",
     "output_type": "stream",
     "text": [
      "100%|██████████| 2500/2500 [19:37<00:00,  2.12it/s]\n",
      "  0%|          | 0/2500 [00:00<?, ?it/s]"
     ]
    },
    {
     "name": "stdout",
     "output_type": "stream",
     "text": [
      "Processing gender: ./5000/male/\n",
      "Files: 2500\n"
     ]
    },
    {
     "name": "stderr",
     "output_type": "stream",
     "text": [
      "100%|██████████| 2500/2500 [18:47<00:00,  2.61it/s]\n",
      "  0%|          | 0/2500 [00:00<?, ?it/s]"
     ]
    },
    {
     "name": "stdout",
     "output_type": "stream",
     "text": [
      "\n",
      "Present length:18000\n",
      "Processing gender: ./5000/female/\n",
      "Files: 2500\n"
     ]
    },
    {
     "name": "stderr",
     "output_type": "stream",
     "text": [
      "100%|██████████| 2500/2500 [19:43<00:00,  2.11it/s]\n",
      "  0%|          | 0/2500 [00:00<?, ?it/s]"
     ]
    },
    {
     "name": "stdout",
     "output_type": "stream",
     "text": [
      "Processing gender: ./5000/male/\n",
      "Files: 2500\n"
     ]
    },
    {
     "name": "stderr",
     "output_type": "stream",
     "text": [
      "100%|██████████| 2500/2500 [19:16<00:00,  2.56it/s]\n"
     ]
    }
   ],
   "source": [
    "#shorten text\n",
    "#length_list = [200, 400, 600, 800, 1200, 1600, 2000, 27850]\n",
    "length_list = [12000, 14000, 16000, 18000]\n",
    "\n",
    "for l in length_list:\n",
    "    print('\\nPresent length:{}'.format(l))\n",
    "    for gender in [0, 1]:\n",
    "        if gender == 0:\n",
    "            txtDir = './5000/female/'\n",
    "            saveDir = f'./5000-{l}/female/'\n",
    "        else:\n",
    "            txtDir = './5000/male/'\n",
    "            saveDir = f'./5000-{l}/male/'\n",
    "        if not op.isdir(f'./5000-{l}'):\n",
    "            os.mkdir(f'./5000-{l}')\n",
    "        if not op.isdir(saveDir):\n",
    "            os.mkdir(saveDir)\n",
    "        print(\"Processing gender: {}\".format(txtDir))\n",
    "        handle_gender = os.listdir(txtDir)\n",
    "        print(\"Files:\", len(handle_gender))\n",
    "        for m in tqdm(handle_gender):\n",
    "            name = txtDir + m\n",
    "            text = gettext(name)\n",
    "            words = nltk.word_tokenize(text)\n",
    "            if len(words) < (l + 1):\n",
    "                continue\n",
    "            words = words[:l]\n",
    "            text = ''\n",
    "            for word in words:\n",
    "                text = text + word + ' '\n",
    "            with open(op.join(saveDir, m), 'w') as f:\n",
    "                f.write(text)"
   ]
  },
  {
   "cell_type": "code",
   "execution_count": 4,
   "metadata": {
    "ExecuteTime": {
     "end_time": "2019-08-03T11:24:24.670975Z",
     "start_time": "2019-08-03T07:48:41.369259Z"
    },
    "code_folding": [],
    "scrolled": true
   },
   "outputs": [
    {
     "name": "stderr",
     "output_type": "stream",
     "text": [
      "\r",
      "  0%|          | 0/2251 [00:00<?, ?it/s]"
     ]
    },
    {
     "name": "stdout",
     "output_type": "stream",
     "text": [
      "\n",
      "Present length:12000\n",
      "Processing gender: ./5000-12000/female/\n",
      "Files: 2251\n"
     ]
    },
    {
     "name": "stderr",
     "output_type": "stream",
     "text": [
      "100%|██████████| 2251/2251 [21:32<00:00,  1.83it/s]\n",
      "  0%|          | 0/2140 [00:00<?, ?it/s]"
     ]
    },
    {
     "name": "stdout",
     "output_type": "stream",
     "text": [
      "Processing gender: ./5000-12000/male/\n",
      "Files: 2140\n"
     ]
    },
    {
     "name": "stderr",
     "output_type": "stream",
     "text": [
      "100%|██████████| 2140/2140 [21:53<00:00,  1.48it/s]\n",
      "  0%|          | 0/2213 [00:00<?, ?it/s]"
     ]
    },
    {
     "name": "stdout",
     "output_type": "stream",
     "text": [
      "\n",
      "Present length:14000\n",
      "Processing gender: ./5000-14000/female/\n",
      "Files: 2213\n"
     ]
    },
    {
     "name": "stderr",
     "output_type": "stream",
     "text": [
      "100%|██████████| 2213/2213 [24:33<00:00,  1.54it/s]\n",
      "  0%|          | 0/2083 [00:00<?, ?it/s]"
     ]
    },
    {
     "name": "stdout",
     "output_type": "stream",
     "text": [
      "Processing gender: ./5000-14000/male/\n",
      "Files: 2083\n"
     ]
    },
    {
     "name": "stderr",
     "output_type": "stream",
     "text": [
      "100%|██████████| 2083/2083 [25:24<00:00,  1.24it/s]\n",
      "  0%|          | 0/2179 [00:00<?, ?it/s]"
     ]
    },
    {
     "name": "stdout",
     "output_type": "stream",
     "text": [
      "\n",
      "Present length:16000\n",
      "Processing gender: ./5000-16000/female/\n",
      "Files: 2179\n"
     ]
    },
    {
     "name": "stderr",
     "output_type": "stream",
     "text": [
      "100%|██████████| 2179/2179 [27:54<00:00,  1.38it/s]\n",
      "  0%|          | 0/2043 [00:00<?, ?it/s]"
     ]
    },
    {
     "name": "stdout",
     "output_type": "stream",
     "text": [
      "Processing gender: ./5000-16000/male/\n",
      "Files: 2043\n"
     ]
    },
    {
     "name": "stderr",
     "output_type": "stream",
     "text": [
      "100%|██████████| 2043/2043 [28:20<00:00,  1.09it/s]\n",
      "  0%|          | 0/2153 [00:00<?, ?it/s]"
     ]
    },
    {
     "name": "stdout",
     "output_type": "stream",
     "text": [
      "\n",
      "Present length:18000\n",
      "Processing gender: ./5000-18000/female/\n",
      "Files: 2153\n"
     ]
    },
    {
     "name": "stderr",
     "output_type": "stream",
     "text": [
      "100%|██████████| 2153/2153 [33:03<00:00,  1.11it/s]\n",
      "  0%|          | 0/2003 [00:00<?, ?it/s]"
     ]
    },
    {
     "name": "stdout",
     "output_type": "stream",
     "text": [
      "Processing gender: ./5000-18000/male/\n",
      "Files: 2003\n"
     ]
    },
    {
     "name": "stderr",
     "output_type": "stream",
     "text": [
      "100%|██████████| 2003/2003 [32:58<00:00,  1.05s/it]\n"
     ]
    }
   ],
   "source": [
    "#feature extract\n",
    "length_list = [12000, 14000, 16000, 18000]\n",
    "for l in length_list:\n",
    "    names = []\n",
    "    F_features = []\n",
    "    GRF_features = []\n",
    "    WC_features = []\n",
    "    labels = []\n",
    "    print('\\nPresent length:{}'.format(l))\n",
    "    for gender in [0, 1]:\n",
    "        if gender == 0:\n",
    "            txtDir = f'./5000-{l}/female/'\n",
    "        else:\n",
    "            txtDir = f'./5000-{l}/male/'\n",
    "\n",
    "        print(\"Processing gender: {}\".format(txtDir))\n",
    "        handle_gender = os.listdir(txtDir)\n",
    "        print(\"Files:\", len(handle_gender))\n",
    "        for m in tqdm(handle_gender):\n",
    "            name = txtDir + m\n",
    "            text = gettext(name)\n",
    "            words = nltk.word_tokenize(text)\n",
    "            tags = nltk.pos_tag(words)\n",
    "            words_l = wordlemmatize(tags)\n",
    "\n",
    "            F_feature = F_measure(tags)\n",
    "            GRF_feature = Gender_Preferential_Features(words_l)\n",
    "            WC_feature = Word_Classes_Feature(words_l)\n",
    "\n",
    "            names.append(name)\n",
    "            F_features.append(F_feature)\n",
    "            GRF_features.append(GRF_feature)\n",
    "            WC_features.append(WC_feature)\n",
    "            labels.append(gender)\n",
    "\n",
    "    WC_features_l = []\n",
    "    GRF_features_l = []\n",
    "\n",
    "    for i in range(len(WC_features[0])):\n",
    "        n = i\n",
    "        WC_features_l.append(getsingle(WC_features, n))\n",
    "\n",
    "    for i in range(len(GRF_features[0])):\n",
    "        n = i\n",
    "        GRF_features_l.append(getsingle(GRF_features, n))\n",
    "\n",
    "    map1 = {'name': names, 'label': labels, 'F_feature': F_features}\n",
    "\n",
    "    for i in range(len(WC_features[0])):\n",
    "        key = 'WC_' + str(i + 1)\n",
    "        value = WC_features_l[i]\n",
    "        map1[key] = value\n",
    "\n",
    "    for i in range(len(GRF_features[0])):\n",
    "        key = 'GRF_' + str(i + 1)\n",
    "        value = GRF_features_l[i]\n",
    "        map1[key] = value\n",
    "\n",
    "    allofall = pd.DataFrame(map1)\n",
    "\n",
    "    F_features_u = np.array(F_features)\n",
    "    F_features_u = (F_features_u -\n",
    "                    np.mean(F_features_u)) / np.std(F_features_u)\n",
    "    allofall['F_feature'] = F_features_u\n",
    "\n",
    "    allofall.to_csv(f'allofall_5000-{l}.csv', index=False)\n",
    "    #genderbias = pd.read_csv(f'5000-{l}_genderbias.csv')\n",
    "    #allofall['bias'], allofall['word ratio'] = genderbias['bias'], genderbias['word ratio']\n",
    "    #allofall.to_csv(f'5000-{l}_features.csv',index = False)"
   ]
  },
  {
   "cell_type": "markdown",
   "metadata": {},
   "source": [
    "## 3. Train"
   ]
  },
  {
   "cell_type": "code",
   "execution_count": 2,
   "metadata": {
    "ExecuteTime": {
     "end_time": "2019-08-07T01:37:03.022812Z",
     "start_time": "2019-08-07T01:37:03.015629Z"
    }
   },
   "outputs": [],
   "source": [
    "def train(clf, data, target):\n",
    "    clf.fit(data.values, target.values.reshape(-1, ))\n",
    "    scores_clf_cv = cross_val_score(rnd_clf,\n",
    "                                    data.values,\n",
    "                                    target.values.reshape(-1, ),\n",
    "                                    cv=5)\n",
    "    print(scores_clf_cv)\n",
    "    print(\"Accuracy: %0.6f (+/- %0.3f)\" %\n",
    "          (scores_clf_cv.mean(), scores_clf_cv.std() * 2))\n",
    "    return scores_clf_cv.mean(), clf.feature_importances_"
   ]
  },
  {
   "cell_type": "code",
   "execution_count": 47,
   "metadata": {
    "ExecuteTime": {
     "end_time": "2019-08-04T08:20:30.145069Z",
     "start_time": "2019-08-04T08:18:54.859465Z"
    },
    "code_folding": [],
    "scrolled": false
   },
   "outputs": [
    {
     "name": "stdout",
     "output_type": "stream",
     "text": [
      "\n",
      " Length:12000\n",
      "[0.74744027 0.75626424 0.78929385 0.75968109 0.78473804]\n",
      "Accuracy: 0.767483 (+/- 0.033)\n",
      "[0.71217292 0.72323462 0.75056948 0.7357631  0.74829157]\n",
      "Accuracy: 0.734006 (+/- 0.029)\n",
      "[0.70875995 0.68451025 0.70501139 0.70387244 0.72437358]\n",
      "Accuracy: 0.705306 (+/- 0.025)\n",
      "\n",
      " Length:14000\n",
      "[0.76860465 0.77093023 0.76046512 0.74825175 0.78088578]\n",
      "Accuracy: 0.765828 (+/- 0.022)\n",
      "[0.73372093 0.73372093 0.72325581 0.74125874 0.76107226]\n",
      "Accuracy: 0.738606 (+/- 0.025)\n",
      "[0.73837209 0.70116279 0.69069767 0.7004662  0.71095571]\n",
      "Accuracy: 0.708331 (+/- 0.033)\n",
      "\n",
      " Length:16000\n",
      "[0.78343195 0.78579882 0.75976331 0.78436019 0.74614472]\n",
      "Accuracy: 0.771900 (+/- 0.032)\n",
      "[0.73964497 0.7704142  0.73254438 0.74526066 0.72004745]\n",
      "Accuracy: 0.741582 (+/- 0.033)\n",
      "[0.71005917 0.72544379 0.67928994 0.72274882 0.6737841 ]\n",
      "Accuracy: 0.702265 (+/- 0.043)\n",
      "\n",
      " Length:18000\n",
      "[0.77163462 0.77283654 0.74639423 0.79277108 0.8060241 ]\n",
      "Accuracy: 0.777932 (+/- 0.041)\n",
      "[0.71875    0.75841346 0.72475962 0.77831325 0.75180723]\n",
      "Accuracy: 0.746409 (+/- 0.044)\n",
      "[0.70673077 0.69951923 0.703125   0.73493976 0.73493976]\n",
      "Accuracy: 0.715851 (+/- 0.032)\n"
     ]
    }
   ],
   "source": [
    "#train\n",
    "allf = []\n",
    "allf_i = []\n",
    "gb = []\n",
    "gb_i = []\n",
    "without = []\n",
    "without_i = []\n",
    "featurelist = []\n",
    "length_list = [12000, 14000, 16000, 18000]\n",
    "list1 = ['occu', 'emo', 'verb']\n",
    "\n",
    "for l in length_list:\n",
    "    allofall = pd.read_csv(f'allofall_5000-{l}.csv')\n",
    "    genderbias = pd.read_csv(f'5000-{l}_genderbias.csv')\n",
    "    allofall['bias'], allofall['word ratio'] = genderbias['bias'], genderbias[\n",
    "        'word ratio']\n",
    "\n",
    "    for j in range(3):\n",
    "        genderbias = pd.read_csv(f'5000-{l}_genderbias-{list1[j]}.csv')\n",
    "        allofall[f'bias-{list1[j]}'], allofall[\n",
    "            f'word ratio{list1[j]}'] = genderbias['bias'], genderbias[\n",
    "                'word ratio']\n",
    "\n",
    "    allofall.to_csv(f'5000-{l}_features.csv', index=False)\n",
    "    data, target = allofall.drop(\n",
    "        columns=['name', 'label']).iloc[:].values, allofall['label'].values\n",
    "    train_X, test_X, train_y, test_y = train_test_split(data,\n",
    "                                                        target,\n",
    "                                                        test_size=0.2,\n",
    "                                                        random_state=42,\n",
    "                                                        shuffle=True)\n",
    "    data, target = pd.concat(\n",
    "        (pd.DataFrame(train_X), pd.DataFrame(test_X))), pd.concat(\n",
    "            (pd.DataFrame(train_y), pd.DataFrame(test_y)))\n",
    "    data1 = data.iloc[:, :-6]\n",
    "    data2 = data.iloc[:, :-8]\n",
    "    data3 = data.iloc[:, -8:-6]\n",
    "    rnd_clf = RandomForestClassifier(n_estimators=800,\n",
    "                                     max_leaf_nodes=50,\n",
    "                                     n_jobs=-1)\n",
    "\n",
    "    print('\\n Length:{}'.format(l))\n",
    "    a, b = train(rnd_clf, data1, target)\n",
    "    allf.append(a)\n",
    "    allf_i.append([b])\n",
    "    a, b = train(rnd_clf, data2, target)\n",
    "    without.append(a)\n",
    "    without_i.append([b])\n",
    "    a, b = train(rnd_clf, data3, target)\n",
    "    gb.append(a)\n",
    "    gb_i.append([b])"
   ]
  },
  {
   "cell_type": "code",
   "execution_count": 55,
   "metadata": {
    "ExecuteTime": {
     "end_time": "2019-08-04T08:23:28.766155Z",
     "start_time": "2019-08-04T08:23:28.697208Z"
    },
    "code_folding": []
   },
   "outputs": [],
   "source": [
    "#length vs accuracy\n",
    "df = pd.read_csv('length_v_acc_and_im.csv')\n",
    "df = df.set_index('length')\n",
    "allofall = pd.read_csv('5000-10000_features.csv')\n",
    "\n",
    "allf_ii = [0] * len(length_list)\n",
    "without_ii = [0] * len(length_list)\n",
    "gb_ii = [0] * len(length_list)\n",
    "name = allofall.columns[2:]\n",
    "for i in range(len(length_list)):\n",
    "    allf_ii[i] = sorted(list(zip(name, allf_i[i][0])),\n",
    "                        key=lambda x: x[1],\n",
    "                        reverse=True)\n",
    "    without_ii[i] = sorted(list(zip(name[:-2], without_i[i][0])),\n",
    "                           key=lambda x: x[1],\n",
    "                           reverse=True)\n",
    "    gb_ii[i] = sorted(list(zip(name[-2:], gb_i[i][0])),\n",
    "                      key=lambda x: x[1],\n",
    "                      reverse=True)\n",
    "\n",
    "allf_iii = [0] * len(length_list)\n",
    "without_iii = [0] * len(length_list)\n",
    "name = ['F', 'WC', 'GRF', 'bias', 'word ratio']\n",
    "for i in range(len(length_list)):\n",
    "    temp = allf_i[i]\n",
    "    handle = [0] * 5\n",
    "    handle[0] = temp[0][0]\n",
    "    handle[1] = sum(temp[0][1:24])\n",
    "    handle[2] = sum(temp[0][24:34])\n",
    "    handle[3:] = temp[0][-2:]\n",
    "    handle = sorted(zip(name, handle), key=lambda x: x[1], reverse=True)\n",
    "    allf_iii[i] = handle\n",
    "    temp = without_i[i]\n",
    "    handle = [0] * 3\n",
    "    handle[0] = temp[0][0]\n",
    "    handle[1] = sum(temp[0][1:24])\n",
    "    handle[2] = sum(temp[0][24:34])\n",
    "    handle = sorted(zip(name[:-2], handle), key=lambda x: x[1], reverse=True)\n",
    "    without_iii[i] = handle\n",
    "\n",
    "start = 8\n",
    "df1 = df.iloc[:8, :]\n",
    "df2 = df.iloc[:len(length_list),:]\n",
    "df2.index = length_list\n",
    "df3 = df.iloc[8:, :]\n",
    "df = pd.concat([df1, df2, df3])\n",
    "for i in range(len(length_list)):\n",
    "    df.iloc[start + i, 0] = allf[i]\n",
    "    df.iloc[start + i, 3] = without[i]\n",
    "    df.iloc[start + i, 6] = gb[i]\n",
    "    df.iloc[start + i, 1] = [allf_ii[i][:5]]\n",
    "    df.iloc[start + i, 4] = [without_ii[i][:5]]\n",
    "    df.iloc[start + i, 7] = [gb_ii[i]]\n",
    "    df.iloc[start + i, 2] = [allf_iii[i]]\n",
    "    df.iloc[start + i, 5] = [without_iii[i]]\n",
    "#df.to_csv('top5_sum.csv')"
   ]
  },
  {
   "cell_type": "markdown",
   "metadata": {},
   "source": [
    "## 4. Others"
   ]
  },
  {
   "cell_type": "code",
   "execution_count": null,
   "metadata": {
    "code_folding": [
     0
    ],
    "scrolled": true
   },
   "outputs": [],
   "source": [
    "#10wincv\n",
    "from sklearn.model_selection import cross_val_score\n",
    "\n",
    "for i in range(1, 11):\n",
    "    fname = str(10 + i) + '_win_5000_genderbias.csv'\n",
    "    genderbias = pd.read_csv(fname)\n",
    "    allofall['bias'], allofall['word ratio'] = genderbias['bias'], genderbias[\n",
    "        'word ratio']\n",
    "    data, target = allofall.drop(columns=['name', 'label', 'word count']\n",
    "                                 ).iloc[:].values, allofall['label'].values\n",
    "    train_X, test_X, train_y, test_y = train_test_split(data,\n",
    "                                                        target,\n",
    "                                                        test_size=0.2,\n",
    "                                                        random_state=42,\n",
    "                                                        shuffle=True)\n",
    "    data, target = pd.concat(\n",
    "        (pd.DataFrame(train_X), pd.DataFrame(test_X))), pd.concat(\n",
    "            (pd.DataFrame(train_y), pd.DataFrame(test_y)))\n",
    "\n",
    "    rnd_clf = RandomForestClassifier(n_estimators=1000,\n",
    "                                     max_leaf_nodes=50,\n",
    "                                     n_jobs=-1)\n",
    "    scores_rnd_clf_cv = cross_val_score(rnd_clf,\n",
    "                                        data.values,\n",
    "                                        target.values.reshape(-1, ),\n",
    "                                        cv=5)\n",
    "    print('Windows:%.2f'%(i))\n",
    "    print(scores_rnd_clf_cv)\n",
    "    print(\"Accuracy: %0.2f (+/- %0.2f)\" %\n",
    "          (scores_rnd_clf_cv.mean(), scores_rnd_clf_cv.std() * 2))"
   ]
  },
  {
   "cell_type": "code",
   "execution_count": 2,
   "metadata": {
    "ExecuteTime": {
     "end_time": "2019-07-31T09:06:09.728700Z",
     "start_time": "2019-07-31T09:05:16.451354Z"
    },
    "code_folding": [],
    "scrolled": true
   },
   "outputs": [
    {
     "name": "stdout",
     "output_type": "stream",
     "text": [
      "\n",
      " Length:10000\n",
      "All features:\n",
      "[0.76       0.77444444 0.77419355 0.77196885 0.77085651]\n",
      "Accuracy: 0.77 (+/- 0.01)\n",
      "bias1:\n",
      "[0.68888889 0.69888889 0.70967742 0.72302558 0.70189099]\n",
      "Accuracy: 0.70 (+/- 0.02)\n",
      "bias2:\n",
      "[0.69       0.69333333 0.71746385 0.72747497 0.70967742]\n",
      "Accuracy: 0.71 (+/- 0.03)\n",
      "bias3:\n",
      "[0.69       0.69888889 0.71301446 0.72636263 0.71301446]\n",
      "Accuracy: 0.71 (+/- 0.03)\n",
      "\n",
      " Length:20000\n",
      "All features:\n",
      "[0.78694581 0.7770936  0.76724138 0.79433498 0.7654321 ]\n",
      "Accuracy: 0.78 (+/- 0.02)\n",
      "bias1:\n",
      "[0.69581281 0.67980296 0.68842365 0.69334975 0.71111111]\n",
      "Accuracy: 0.69 (+/- 0.02)\n",
      "bias2:\n",
      "[0.70935961 0.69458128 0.70320197 0.72044335 0.72592593]\n",
      "Accuracy: 0.71 (+/- 0.02)\n",
      "bias3:\n",
      "[0.71182266 0.69704433 0.70566502 0.7229064  0.72345679]\n",
      "Accuracy: 0.71 (+/- 0.02)\n"
     ]
    }
   ],
   "source": [
    "#train\n",
    "allf = []\n",
    "allf_i = []\n",
    "bias1 = []\n",
    "bias1_i = []\n",
    "bias2 = []\n",
    "bias2_i = []\n",
    "bias3 = []\n",
    "bias3_i = []\n",
    "list1 = ['occu', 'emo', 'verb']\n",
    "\n",
    "for l in length_list:\n",
    "    allofall = pd.read_csv(f'allofall_5000-{l}.csv')\n",
    "    for j in range(3):\n",
    "        genderbias = pd.read_csv(f'5000-{l}_genderbias-{list1[j]}.csv')\n",
    "        allofall[f'bias-{list1[j]}'], allofall[\n",
    "            f'word ratio{list1[j]}'] = genderbias['bias'], genderbias[\n",
    "                'word ratio']\n",
    "    allofall.to_csv(f'5000-{l}_features.csv', index=False)\n",
    "    data, target = allofall.drop(\n",
    "        columns=['name', 'label']).iloc[:].values, allofall['label'].values\n",
    "    train_X, test_X, train_y, test_y = train_test_split(data,\n",
    "                                                        target,\n",
    "                                                        test_size=0.2,\n",
    "                                                        random_state=42,\n",
    "                                                        shuffle=True)\n",
    "    data, target = pd.concat(\n",
    "        (pd.DataFrame(train_X), pd.DataFrame(test_X))), pd.concat(\n",
    "            (pd.DataFrame(train_y), pd.DataFrame(test_y)))\n",
    "    data1 = data.iloc[:, :-6]\n",
    "    data2 = data.iloc[:, :-8]\n",
    "    data3 = data.iloc[:, -8:-6]\n",
    "    rnd_clf = RandomForestClassifier(n_estimators=800,\n",
    "                                     max_leaf_nodes=50,\n",
    "                                     n_jobs=-1)\n",
    "\n",
    "    print('\\n Length:{}'.format(l))\n",
    "    a, b = train(rnd_clf, data1, target)\n",
    "    allf.append(a)\n",
    "    allf_i.append([b])\n",
    "    a, b = train(rnd_clf, data2, target)\n",
    "    bias1.append(scores_rnd_clf_cv.mean())\n",
    "    bias1_i.append([rnd_clf.feature_importances_])\n",
    "    a, b = train(rnd_clf, data3, target)\n",
    "    bias2.append(scores_rnd_clf_cv.mean())\n",
    "    bias2_i.append([rnd_clf.feature_importances_])\n",
    "\n",
    "    bias3.append(scores_rnd_clf_cv.mean())\n",
    "    bias3_i.append([rnd_clf.feature_importances_])"
   ]
  },
  {
   "cell_type": "code",
   "execution_count": 7,
   "metadata": {
    "ExecuteTime": {
     "end_time": "2019-07-31T09:09:20.960970Z",
     "start_time": "2019-07-31T09:09:20.948295Z"
    },
    "scrolled": true
   },
   "outputs": [
    {
     "data": {
      "text/plain": [
       "[[('word ratioverb', 0.09792318988264424),\n",
       "  ('word ratioemo', 0.08803981272675876),\n",
       "  ('word ratio', 0.08689822974440123),\n",
       "  ('word ratiooccu', 0.08665056375966053),\n",
       "  ('GRF_3', 0.08562365749490158),\n",
       "  ('GRF_2', 0.05542545657451242),\n",
       "  ('F_feature', 0.054956674238661136),\n",
       "  ('WC_1', 0.02695101097843183),\n",
       "  ('bias', 0.026811438743032955),\n",
       "  ('GRF_8', 0.025263404929873924),\n",
       "  ('WC_15', 0.023937535941254383),\n",
       "  ('WC_2', 0.021372038041099616),\n",
       "  ('WC_21', 0.019388978128335944),\n",
       "  ('WC_17', 0.018955222906931236),\n",
       "  ('WC_13', 0.01883953855069007),\n",
       "  ('WC_4', 0.017872635275490805),\n",
       "  ('WC_6', 0.016798315218526785),\n",
       "  ('WC_23', 0.016631524092157006),\n",
       "  ('WC_10', 0.013086739594023082),\n",
       "  ('GRF_1', 0.01272754277044346),\n",
       "  ('WC_22', 0.012467319962607536),\n",
       "  ('WC_7', 0.012320246269774316),\n",
       "  ('bias-verb', 0.012177769954146914),\n",
       "  ('GRF_9', 0.011916296763889604),\n",
       "  ('WC_5', 0.011740002949498216),\n",
       "  ('WC_11', 0.011643502536574006),\n",
       "  ('WC_12', 0.011410907742312492),\n",
       "  ('GRF_7', 0.01048429320561239),\n",
       "  ('GRF_4', 0.009100250862050888),\n",
       "  ('WC_9', 0.008847605346455178),\n",
       "  ('WC_3', 0.008842751512693616),\n",
       "  ('WC_19', 0.008826254225632496),\n",
       "  ('WC_18', 0.008542136907118268),\n",
       "  ('WC_8', 0.008237794268625984),\n",
       "  ('GRF_6', 0.008018299814483076),\n",
       "  ('GRF_5', 0.007952732981785402),\n",
       "  ('WC_20', 0.007817922668684132),\n",
       "  ('WC_14', 0.007001741129201169),\n",
       "  ('WC_16', 0.004094059800756819),\n",
       "  ('GRF_10', 0.0036881607724963687),\n",
       "  ('bias-emo', 0.0006598105106670515),\n",
       "  ('bias-occu', 5.663022310318516e-05)],\n",
       " [('GRF_3', 0.09466646871582383),\n",
       "  ('word ratioemo', 0.09047454831964702),\n",
       "  ('word ratioverb', 0.09030928544410866),\n",
       "  ('word ratiooccu', 0.09019058011084341),\n",
       "  ('word ratio', 0.08284340978295952),\n",
       "  ('F_feature', 0.04850549984866297),\n",
       "  ('GRF_2', 0.04711736206372441),\n",
       "  ('bias-verb', 0.029776103546634566),\n",
       "  ('bias', 0.02667177410591126),\n",
       "  ('WC_15', 0.025559519069607246),\n",
       "  ('GRF_8', 0.02410171417051797),\n",
       "  ('WC_1', 0.022670404327549895),\n",
       "  ('WC_2', 0.019545915953997496),\n",
       "  ('WC_13', 0.01877105442717594),\n",
       "  ('WC_7', 0.016938632599621688),\n",
       "  ('WC_17', 0.015699768136415215),\n",
       "  ('WC_6', 0.014272989096406164),\n",
       "  ('WC_4', 0.013998153838937455),\n",
       "  ('GRF_9', 0.013306410649178292),\n",
       "  ('WC_21', 0.013257861699016221),\n",
       "  ('GRF_1', 0.012280366158291825),\n",
       "  ('WC_9', 0.012212814490967639),\n",
       "  ('WC_10', 0.012211003672905105),\n",
       "  ('GRF_4', 0.012210438352405113),\n",
       "  ('WC_11', 0.011847294865274884),\n",
       "  ('WC_5', 0.011542416015061516),\n",
       "  ('WC_3', 0.011345414028950552),\n",
       "  ('GRF_7', 0.011129323616504322),\n",
       "  ('WC_23', 0.010521179705245636),\n",
       "  ('WC_20', 0.010279529107573902),\n",
       "  ('WC_12', 0.009642081978706325),\n",
       "  ('WC_22', 0.009402961612686845),\n",
       "  ('WC_18', 0.00894181993733951),\n",
       "  ('WC_8', 0.008260292174481227),\n",
       "  ('bias-emo', 0.00821308797323367),\n",
       "  ('WC_14', 0.007871087140974353),\n",
       "  ('GRF_6', 0.007219104927179184),\n",
       "  ('WC_19', 0.007014720985354242),\n",
       "  ('GRF_5', 0.006874287316823622),\n",
       "  ('GRF_10', 0.0066053672774833835),\n",
       "  ('WC_16', 0.005600197224618289),\n",
       "  ('bias-occu', 9.775553119981156e-05)]]"
      ]
     },
     "execution_count": 7,
     "metadata": {},
     "output_type": "execute_result"
    }
   ],
   "source": [
    "name = allofall.columns[2:]\n",
    "new = []\n",
    "for i in range(2):\n",
    "    new.append(sorted(zip(name,allf_i[i][0]),key=lambda x:x[1],reverse=True))\n",
    "allf_i = new"
   ]
  },
  {
   "cell_type": "code",
   "execution_count": 30,
   "metadata": {
    "ExecuteTime": {
     "end_time": "2019-07-31T09:36:29.705307Z",
     "start_time": "2019-07-31T09:36:20.952190Z"
    }
   },
   "outputs": [
    {
     "name": "stdout",
     "output_type": "stream",
     "text": [
      "[0.78078818 0.77832512 0.7635468  0.79679803 0.76666667]\n",
      "Accuracy: 0.777225 (+/- 0.024)\n"
     ]
    }
   ],
   "source": [
    "def train(clf, data, target):\n",
    "    clf.fit(data.values, target.values.reshape(-1, ))\n",
    "    scores_clf_cv = cross_val_score(rnd_clf,\n",
    "                                    data.values,\n",
    "                                    target.values.reshape(-1, ),\n",
    "                                    cv=5)\n",
    "    print(scores_clf_cv)\n",
    "    print(\"Accuracy: %0.6f (+/- %0.3f)\" %\n",
    "          (scores_clf_cv.mean(), scores_clf_cv.std() * 2))\n",
    "    return scores_clf_cv.mean(), [clf.feature_importances_]\n",
    "\n",
    "\n",
    "test = pd.concat([data.iloc[:, :-6], data.iloc[:, -6:]], axis=1)\n",
    "a, b = train(rnd_clf, test, target)"
   ]
  },
  {
   "cell_type": "code",
   "execution_count": 35,
   "metadata": {
    "ExecuteTime": {
     "end_time": "2019-07-31T09:39:27.052313Z",
     "start_time": "2019-07-31T09:39:19.953886Z"
    }
   },
   "outputs": [
    {
     "name": "stdout",
     "output_type": "stream",
     "text": [
      "[0.78448276 0.76970443 0.75985222 0.7820197  0.76666667]\n",
      "Accuracy: 0.772545 (+/- 0.019)\n"
     ]
    }
   ],
   "source": [
    "data.columns = allofall.columns[2:]\n",
    "test = data.loc[:, new[1][0][0]]\n",
    "for f in new[1][1:15]:\n",
    "    test = pd.concat([test, data.loc[:, f[0]]],axis=1)\n",
    "a, b = train(rnd_clf, test, target)"
   ]
  },
  {
   "cell_type": "code",
   "execution_count": 38,
   "metadata": {
    "ExecuteTime": {
     "end_time": "2019-07-31T09:51:39.157323Z",
     "start_time": "2019-07-31T09:51:39.150939Z"
    }
   },
   "outputs": [
    {
     "data": {
      "text/plain": [
       "42"
      ]
     },
     "execution_count": 38,
     "metadata": {},
     "output_type": "execute_result"
    }
   ],
   "source": [
    "new[0].__len__()"
   ]
  },
  {
   "cell_type": "code",
   "execution_count": null,
   "metadata": {},
   "outputs": [],
   "source": []
  }
 ],
 "metadata": {
  "kernelspec": {
   "display_name": "nlp",
   "language": "python",
   "name": "nlp"
  },
  "language_info": {
   "codemirror_mode": {
    "name": "ipython",
    "version": 3
   },
   "file_extension": ".py",
   "mimetype": "text/x-python",
   "name": "python",
   "nbconvert_exporter": "python",
   "pygments_lexer": "ipython3",
   "version": "3.6.8"
  },
  "pycharm": {
   "stem_cell": {
    "cell_type": "raw",
    "metadata": {
     "collapsed": false
    },
    "source": []
   }
  },
  "varInspector": {
   "cols": {
    "lenName": 16,
    "lenType": 16,
    "lenVar": 40
   },
   "kernels_config": {
    "python": {
     "delete_cmd_postfix": "",
     "delete_cmd_prefix": "del ",
     "library": "var_list.py",
     "varRefreshCmd": "print(var_dic_list())"
    },
    "r": {
     "delete_cmd_postfix": ") ",
     "delete_cmd_prefix": "rm(",
     "library": "var_list.r",
     "varRefreshCmd": "cat(var_dic_list()) "
    }
   },
   "position": {
    "height": "316.85px",
    "left": "1418px",
    "right": "50px",
    "top": "120px",
    "width": "317px"
   },
   "types_to_exclude": [
    "module",
    "function",
    "builtin_function_or_method",
    "instance",
    "_Feature"
   ],
   "window_display": false
  }
 },
 "nbformat": 4,
 "nbformat_minor": 2
}
